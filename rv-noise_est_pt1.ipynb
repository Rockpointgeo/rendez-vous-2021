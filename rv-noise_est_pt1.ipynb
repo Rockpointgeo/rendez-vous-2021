{
 "cells": [
  {
   "cell_type": "markdown",
   "metadata": {
    "iooxa": {
     "id": {
      "block": "4EGZEZfJT7gCdmmgr9EX",
      "project": "ZZhsBWxYYWY9a9Js3Qge",
      "version": 1
     }
    }
   },
   "source": [
    "# Software Undergound Rendezvous: Feb 6 2021\n",
    "## Importance of noise estimates when solving inverse problems in the \"real\" world\n",
    "## Part 1 Generate results for analysis\n",
    "### Sean Walker"
   ]
  },
  {
   "cell_type": "markdown",
   "metadata": {
    "iooxa": {
     "id": {
      "block": "j49dUIEjczC7Ymn3tXp3",
      "project": "ZZhsBWxYYWY9a9Js3Qge",
      "version": 1
     }
    }
   },
   "source": [
    "----"
   ]
  },
  {
   "cell_type": "markdown",
   "metadata": {
    "iooxa": {
     "id": {
      "block": "RKhIRtqikLGK30Aa9qUK",
      "project": "ZZhsBWxYYWY9a9Js3Qge",
      "version": 1
     }
    }
   },
   "source": [
    "## Import modules\n"
   ]
  },
  {
   "cell_type": "code",
   "execution_count": 1,
   "metadata": {
    "iooxa": {
     "id": {
      "block": "MoegITh4PT5pSRByLA1g",
      "project": "ZZhsBWxYYWY9a9Js3Qge",
      "version": 1
     },
     "outputId": null
    }
   },
   "outputs": [],
   "source": [
    "%matplotlib inline"
   ]
  },
  {
   "cell_type": "code",
   "execution_count": 2,
   "metadata": {
    "collapsed": false,
    "iooxa": {
     "id": {
      "block": "MoD9AQ7XvJPGhDgHBypV",
      "project": "ZZhsBWxYYWY9a9Js3Qge",
      "version": 1
     },
     "outputId": {
      "block": "9uFvvSQTa9qzU54zdgsq",
      "project": "ZZhsBWxYYWY9a9Js3Qge",
      "version": 1
     }
    },
    "jupyter": {
     "outputs_hidden": false
    }
   },
   "outputs": [
    {
     "name": "stdout",
     "output_type": "stream",
     "text": [
      "Using Paradiso Solver\n",
      "Using Paradiso Solver\n"
     ]
    }
   ],
   "source": [
    "from pathlib import Path\n",
    "import pickle\n",
    "\n",
    "import numpy as np\n",
    "\n",
    "import matplotlib as mpl\n",
    "import matplotlib.pyplot as plt\n",
    "from matplotlib.gridspec import GridSpec\n",
    "from matplotlib import colors\n",
    "\n",
    "from scipy.stats import gmean\n",
    "\n",
    "from discretize import TreeMesh\n",
    "from discretize.utils import mkvc, refine_tree_xyz, extract_core_mesh\n",
    "\n",
    "from SimPEG.utils import surface2ind_topo\n",
    "from SimPEG import (\n",
    "    maps,\n",
    "    data,\n",
    "    data_misfit,\n",
    "    regularization,\n",
    "    optimization,\n",
    "    inverse_problem,\n",
    "    inversion,\n",
    "    directives,\n",
    "    utils,\n",
    ")\n",
    "from SimPEG.electromagnetics.static import resistivity as dc\n",
    "from SimPEG.electromagnetics.static.utils.static_utils import (\n",
    "    apparent_resistivity,\n",
    "    source_receiver_midpoints\n",
    ")\n",
    "\n",
    "from scripts.dc_inv_utils import *\n",
    "\n",
    "try:\n",
    "    from pymatsolver.direct import Pardiso as Solver\n",
    "    print('Using Paradiso Solver')\n",
    "except ImportError:\n",
    "    print('Using LU Solver')\n",
    "    from SimPEG import SolverLU as Solver\n"
   ]
  },
  {
   "cell_type": "markdown",
   "metadata": {
    "iooxa": {
     "id": {
      "block": "BjdcDANZJSUPN1AbNTz6",
      "project": "ZZhsBWxYYWY9a9Js3Qge",
      "version": 1
     }
    }
   },
   "source": [
    "**Note** when using the Paradiso solver you may get many warnings that make it hard to read the inversion output. You need at turn off warnings by setting a variable.\n",
    "\n",
    "On mac\\/\\*nx: export KMP_WARNINGS=0  (can be inlcuded in a profile file)\n",
    "\n",
    "On windows: set KMP_WARNINGS=0 (can be set as an environment variable)"
   ]
  },
  {
   "cell_type": "markdown",
   "metadata": {
    "iooxa": {
     "id": {
      "block": "l62VSKZRN9TjkKiRx06a",
      "project": "ZZhsBWxYYWY9a9Js3Qge",
      "version": 1
     }
    }
   },
   "source": [
    "----"
   ]
  },
  {
   "cell_type": "markdown",
   "metadata": {
    "iooxa": {
     "id": {
      "block": "568f1gwtNoMbRv33QWMe",
      "project": "ZZhsBWxYYWY9a9Js3Qge",
      "version": 1
     }
    }
   },
   "source": [
    "## Demonstrate using DC Resistivity data\n",
    "\n",
    "### SimPEG 2.5D DC Resistivity Least-Squares Inversion\n",
    "\n",
    "Here we invert a line of DC resistivity data to recover an electrical conductivity model. \n",
    "We formulate the corresponding inverse problems as least-squares optimization problems. For this tutorial, I am going to ignore pretty much all of specifics of how the invesion is set up and runs except the for data misfit.\n",
    "\n",
    "Short intro to DC Resistivity data is here:\n",
    "\n",
    "![Image](https://gpg.geosci.xyz/_images/Pseudo_PDP_East.gif)\n",
    "\n",
    "You can find background on [DC Resistivity](https://gpg.geosci.xyz/content/DC_resistivity/index.html) data at [Geophysics for Practicing Geoscientists](https://gpg.geosci.xyz). The image is from the GPG website.\n",
    "\n"
   ]
  },
  {
   "cell_type": "markdown",
   "metadata": {
    "iooxa": {
     "id": {
      "block": "juPTVyCaGfzyfyJIlDQb",
      "project": "ZZhsBWxYYWY9a9Js3Qge",
      "version": 1
     }
    }
   },
   "source": [
    "Short intro to Least-Squares Inversion:\n",
    "\n",
    "\n",
    "\n",
    "You can find a [SimPEG](https://simpeg.xyz/) DC Resisivity inversion tutorial [here](https://docs.simpeg.xyz/content/tutorials/05-dcr/plot_inv_2_dcr2d.html#sphx-glr-content-tutorials-05-dcr-plot-inv-2-dcr2d-py)"
   ]
  },
  {
   "cell_type": "markdown",
   "metadata": {
    "iooxa": {
     "id": {
      "block": "X1KZ7BT5yQusiMBkgDA5",
      "project": "ZZhsBWxYYWY9a9Js3Qge",
      "version": 1
     }
    }
   },
   "source": [
    "## Load Data and define Survey\n",
    "\n",
    "Here we load the observed data and define the DC and IP survey geometry.\n",
    "\n",
    "\n"
   ]
  },
  {
   "cell_type": "code",
   "execution_count": 4,
   "metadata": {
    "iooxa": {
     "id": {
      "block": "H12GKCAAp1VD4pytuKzF",
      "project": "ZZhsBWxYYWY9a9Js3Qge",
      "version": 1
     },
     "outputId": null
    }
   },
   "outputs": [],
   "source": [
    "# load data\n",
    "\n",
    "# path to the directory containing our data\n",
    "data_path = Path('data')\n",
    "\n",
    "# files to work with\n",
    "topo_filename = Path(data_path / \"rv_dipole_dipole_topo.txt\")\n",
    "dc_data_filename = Path(data_path / \"rv_dipole_dipole_dc.txt\")\n",
    "\n",
    "# load files\n",
    "topo_xz = np.loadtxt(topo_filename)\n",
    "dobs_dc = np.loadtxt(dc_data_filename)\n",
    "\n",
    "# Extract source and receiver electrode locations and the observed data\n",
    "#  we are assuming the dc and ip tx-rx pairs are the same. In this case they are.\n",
    "A_electrodes = np.c_[dobs_dc[:, 0], np.zeros(dobs_dc.shape[0])]\n",
    "B_electrodes = np.c_[dobs_dc[:, 1], np.zeros(dobs_dc.shape[0])]\n",
    "M_electrodes = np.c_[dobs_dc[:, 2], np.zeros(dobs_dc.shape[0])]\n",
    "N_electrodes = np.c_[dobs_dc[:, 3], np.zeros(dobs_dc.shape[0])]\n",
    "dobs_dc = dobs_dc[:, -1]\n",
    "\n",
    "# Define survey\n",
    "unique_tx, k = np.unique(np.c_[A_electrodes, B_electrodes], axis=0, return_index=True)\n",
    "n_sources = len(k)\n",
    "k = np.r_[k, len(A_electrodes) + 1]\n",
    "\n",
    "source_list = []\n",
    "for ii in range(0, n_sources):\n",
    "\n",
    "    # MN electrode locations for receivers. Each is an (N, 3) numpy array\n",
    "    M_locations = M_electrodes[k[ii] : k[ii + 1], :]\n",
    "    N_locations = N_electrodes[k[ii] : k[ii + 1], :]\n",
    "    receiver_list = [dc.receivers.Dipole(M_locations, N_locations, data_type=\"volt\")]\n",
    "\n",
    "    # AB electrode locations for source. Each is a (1, 3) numpy array\n",
    "    A_location = A_electrodes[k[ii], :]\n",
    "    B_location = B_electrodes[k[ii], :]\n",
    "    source_list.append(dc.sources.Dipole(receiver_list, A_location, B_location))\n",
    "\n",
    "# Define survey\n",
    "dc_survey = dc.survey.Survey(source_list)\n",
    "\n",
    "# Define the a data object. Uncertainties are added later\n",
    "dc_data = data.Data(dc_survey, dobs=dobs_dc)\n",
    "\n",
    "# Calc app res and midx and mad mid_z used in plotting pseudo sections\n",
    "app_res = apparent_resistivity(dc_data)\n",
    "app_res_mean = gmean(app_res)\n",
    "mid_x, mid_z = source_receiver_midpoints(dc_survey)"
   ]
  },
  {
   "cell_type": "markdown",
   "metadata": {
    "iooxa": {
     "id": {
      "block": "CMSOvyk1e2sCHG9M1w6B",
      "project": "ZZhsBWxYYWY9a9Js3Qge",
      "version": 1
     }
    }
   },
   "source": [
    "We now have a `Data` object and a `Survey` object for the DC resistivity data. We also calculated apparent resistivity and mid points/pseudo depths from the array to plot the data."
   ]
  },
  {
   "cell_type": "markdown",
   "metadata": {
    "iooxa": {
     "id": {
      "block": "2IuuJmkR3V0ExjDfWdVU",
      "project": "ZZhsBWxYYWY9a9Js3Qge",
      "version": 1
     }
    }
   },
   "source": [
    "Now set up the mesh and define the active part of the model"
   ]
  },
  {
   "cell_type": "code",
   "execution_count": 5,
   "metadata": {
    "iooxa": {
     "id": {
      "block": "jqj5gu9mwimLjYQqI5Sc",
      "project": "ZZhsBWxYYWY9a9Js3Qge",
      "version": 1
     },
     "outputId": null
    }
   },
   "outputs": [],
   "source": [
    "# Mesh\n",
    "# all thes values were determined by looking at the data set\n",
    "#  there are probably \n",
    "core_x_min = 0\n",
    "core_x_max = 1900\n",
    "core_x_width = core_x_max - core_x_min\n",
    "core_z_min = -600\n",
    "core_z_max = 0\n",
    "core_z_width = core_z_max - core_z_min\n",
    "\n",
    "dh = 12.5  # base cell width 25m / 4\n",
    "x_min = -500.  # domain width x\n",
    "x_max = 2400.\n",
    "dom_width_x = x_max - x_min\n",
    "z_max = 0.\n",
    "z_min = -1100.\n",
    "dom_width_z = z_max - z_min\n",
    "# Calculate num. base cells x and z must be powers of 2 of base cell\n",
    "#  for tree mesh\n",
    "nbcx = 2 ** int(np.ceil(np.log(dom_width_x / dh) / np.log(2.0)))\n",
    "nbcz = 2 ** int(np.ceil(np.log(dom_width_z / dh) / np.log(2.0)))\n",
    "# calculate the actual size of the mesh from on number of base cells.\n",
    "actual_x_width = nbcx*dh\n",
    "actual_z_width = nbcz*dh\n",
    "# define the origin\n",
    "x_origin = core_x_min - (actual_x_width - core_x_width)/2\n",
    "z_origin = -1*actual_z_width\n",
    "# Define the base mesh\n",
    "hx = [(dh, nbcx)]\n",
    "hz = [(dh, nbcz)]\n",
    "mesh = TreeMesh([hx, hz], x0=[x_origin, z_origin])\n",
    "# Mesh refinement based on topography\n",
    "mesh = refine_tree_xyz(\n",
    "    mesh, topo_xz, octree_levels=[1], method=\"surface\", finalize=False\n",
    ")\n",
    "\n",
    "# Mesh refinement near transmitters and receivers\n",
    "electrode_locations = np.r_[\n",
    "    dc_survey.locations_a,\n",
    "    dc_survey.locations_b,\n",
    "    dc_survey.locations_m,\n",
    "    dc_survey.locations_n,\n",
    "]\n",
    "\n",
    "unique_locations = np.unique(electrode_locations, axis=0)\n",
    "\n",
    "mesh = refine_tree_xyz(\n",
    "    mesh, unique_locations, octree_levels=[2, 4], method=\"radial\",\n",
    "    finalize=False)\n",
    "\n",
    "# Refine core mesh region\n",
    "xp, zp = np.meshgrid([core_x_min, core_x_max], [core_z_min, core_z_max])\n",
    "xyz = np.c_[mkvc(xp), mkvc(zp)]\n",
    "mesh = refine_tree_xyz(mesh, xyz, octree_levels=[0, 2, 2], method=\"box\",\n",
    "                       finalize=False)\n",
    "\n",
    "mesh.finalize()\n",
    "\n",
    "# Find cells that lie below surface topography\n",
    "ind_active = surface2ind_topo(mesh, topo_xz)\n",
    "\n",
    "# Shift electrodes to the surface of discretized topography\n",
    "dc_survey.drape_electrodes_on_topography(mesh, ind_active, option=\"top\")\n",
    "\n",
    "# Define conductivity model in S/m (or resistivity model in Ohm m)\n",
    "air_conductivity = np.log(1e-8)\n",
    "# bacground value we will use the mean apparent resistivity\n",
    "background_conductivity = np.log(1/app_res_mean)\n",
    "\n",
    "active_map = maps.InjectActiveCells(mesh, ind_active, np.exp(air_conductivity))\n",
    "nC = int(ind_active.sum())\n",
    "\n",
    "conductivity_map = active_map * maps.ExpMap()\n",
    "\n",
    "# Define model\n",
    "starting_conductivity_model = background_conductivity * np.ones(nC)\n",
    "\n",
    "plotting_map = maps.ActiveCells(mesh, ind_active, np.nan)\n"
   ]
  },
  {
   "cell_type": "code",
   "execution_count": 6,
   "metadata": {
    "iooxa": {
     "id": {
      "block": "YoMaIRdBfk6wXeWpCTOr",
      "project": "ZZhsBWxYYWY9a9Js3Qge",
      "version": 1
     },
     "outputId": null
    }
   },
   "outputs": [],
   "source": [
    "# mesh core\n",
    "core_defn=[core_x_min, core_x_max, core_z_min, core_z_max]\n",
    "# Electrode locs (re-calc)\n",
    "electrode_locations = np.r_[\n",
    "    dc_survey.locations_a,\n",
    "    dc_survey.locations_b,\n",
    "    dc_survey.locations_m,\n",
    "    dc_survey.locations_n,\n",
    "]\n",
    "\n",
    "unique_locations = np.unique(electrode_locations, axis=0)"
   ]
  },
  {
   "cell_type": "markdown",
   "metadata": {
    "iooxa": {
     "id": {
      "block": "kj3bEaNoA2iudqZc7z1W",
      "project": "ZZhsBWxYYWY9a9Js3Qge",
      "version": 1
     }
    }
   },
   "source": [
    "## Store results and other files for use in discussion"
   ]
  },
  {
   "cell_type": "code",
   "execution_count": 7,
   "metadata": {
    "iooxa": {
     "id": {
      "block": "DlzuGUk4gVTxenZlFHa3",
      "project": "ZZhsBWxYYWY9a9Js3Qge",
      "version": 1
     },
     "outputId": null
    }
   },
   "outputs": [],
   "source": [
    "# path to the directory containing our results\n",
    "results_path = Path('results')"
   ]
  },
  {
   "cell_type": "code",
   "execution_count": 8,
   "metadata": {
    "iooxa": {
     "id": {
      "block": "JsCZF0UKCebDxWsOBLra",
      "project": "ZZhsBWxYYWY9a9Js3Qge",
      "version": 1
     },
     "outputId": null
    }
   },
   "outputs": [],
   "source": [
    "# Pickle stuff we need for setting up the problem and running inversions\n",
    "#  start by putting it in a dict\n",
    "out_fields = ['mesh', 'dc_survey', 'dc_data', 'starting_conductivity_model', 'plotting_map', 'conductivity_map', 'ind_active',\n",
    "                'core_defn', 'unique_locations', 'app_res_mean', 'app_res', 'mid_x', 'mid_z']\n",
    "out_values = [mesh, dc_survey, dc_data, starting_conductivity_model, plotting_map, conductivity_map, ind_active,\n",
    "                core_defn, unique_locations, app_res_mean, app_res, mid_x, mid_z]\n",
    "out_dict = dict(zip(out_fields, out_values))\n",
    "\n",
    "# setup file name\n",
    "setup_filename = Path(results_path / \"setup.pkl\")\n",
    "\n",
    "save_results_dict(out_dict, setup_filename)"
   ]
  },
  {
   "cell_type": "markdown",
   "metadata": {
    "iooxa": {
     "id": {
      "block": "XqtyRnEQ3vcTB5dhbiwt",
      "project": "ZZhsBWxYYWY9a9Js3Qge",
      "version": 1
     }
    }
   },
   "source": [
    "## Assign Uncertainties\n",
    "\n",
    "Inversion with SimPEG requires that we define standard deviation on our data.\n",
    "This represents our estimate of the noise in our data.\n",
    "\n",
    "These values are used to form the data weighting matrix Wdii = 1/stdii\n",
    "\n",
    "We need to choose a value.\n",
    "\n",
    "5% is fairly common starting point. But why not 10% or 1%?\n",
    "\n",
    "Should the large offsets have larger errors (n = 4,5: 15%  and n = 6: 20%?).\n",
    "\n",
    "Should the error estimate have a minimum value sometimes called a noise floor? We choose this as an actual noise floor: 2 * noise level? Or a samll number to prevent 1/std being too large 1e-6?\n"
   ]
  },
  {
   "cell_type": "markdown",
   "metadata": {
    "iooxa": {
     "id": {
      "block": "zWnx9v9yl2bWPVjn0Za3",
      "project": "ZZhsBWxYYWY9a9Js3Qge",
      "version": 1
     }
    }
   },
   "source": [
    "## Run a bunch of inversions to see what happens"
   ]
  },
  {
   "cell_type": "markdown",
   "metadata": {
    "iooxa": {
     "id": {
      "block": "hOoGV3VdXRVPwbfRgmem",
      "project": "ZZhsBWxYYWY9a9Js3Qge",
      "version": 1
     }
    }
   },
   "source": [
    "Plot phi_d and phi_m from the various inversions.\n",
    "\n",
    "Choose an optimal beta based on the curve flattening out.\n",
    "\n",
    "Show that while phi_d is different for each of these the model is the same.\n",
    "\n",
    "Good reminder of why choosing an arbitrary error estimate and ftiing to your theoretical target misfit is a bad idea."
   ]
  },
  {
   "cell_type": "markdown",
   "metadata": {
    "iooxa": {
     "id": {
      "block": "Ijm8dwwjoXgof5K24BLz",
      "project": "ZZhsBWxYYWY9a9Js3Qge",
      "version": 1
     }
    }
   },
   "source": [
    "### Test #1: Change the percentage\n",
    "\n",
    "Run inversion with 5 and 10%\n",
    "\n",
    "Plot errors as Voltages in pseudo section and histogram \n",
    "\n",
    "Based on the phi_d equation we should be able see that the relative errors are the same for each (1/data amplitude). The difference is a constant (1/percentage). So the shape of the phi_d and phi_m curves should be the same. The amplitudes and beta values will be different.\n",
    "\n"
   ]
  },
  {
   "cell_type": "code",
   "execution_count": 9,
   "metadata": {
    "collapsed": false,
    "iooxa": {
     "id": {
      "block": "1Y3iYWRmtpBIzEPMx3Qh",
      "project": "ZZhsBWxYYWY9a9Js3Qge",
      "version": 2
     },
     "outputId": {
      "block": "Qxu9wurPd22nHHc0qxwV",
      "project": "ZZhsBWxYYWY9a9Js3Qge",
      "version": 2
     }
    },
    "jupyter": {
     "outputs_hidden": false
    }
   },
   "outputs": [
    {
     "name": "stdout",
     "output_type": "stream",
     "text": [
      "\n",
      "        SimPEG.InvProblem is setting bfgsH0 to the inverse of the eval2Deriv.\n",
      "        ***Done using same Solver and solverOpts as the problem***\n",
      "model has any nan: 0\n",
      "=============================== Projected GNCG ===============================\n",
      "  #     beta     phi_d     phi_m       f      |proj(x-g)-x|  LS    Comment   \n",
      "-----------------------------------------------------------------------------\n",
      "x0 has any nan: 0\n",
      "   0  1.39e+05  3.67e+04  0.00e+00  3.67e+04    7.10e+03      0              \n",
      "   1  1.39e+04  1.66e+04  4.96e-02  1.73e+04    2.74e+03      0              \n",
      "   2  1.39e+03  8.20e+03  3.14e-01  8.64e+03    1.16e+03      0   Skip BFGS  \n",
      "   3  1.39e+02  4.62e+03  1.43e+00  4.82e+03    5.93e+02      0   Skip BFGS  \n",
      "   4  1.39e+01  2.63e+03  6.10e+00  2.72e+03    2.60e+02      0   Skip BFGS  \n",
      "   5  1.39e+00  1.79e+03  1.49e+01  1.81e+03    1.90e+02      0   Skip BFGS  \n",
      "   6  1.39e-01  1.36e+03  2.06e+01  1.37e+03    2.01e+02      0              \n",
      "   7  1.39e-02  1.02e+03  2.90e+01  1.02e+03    1.67e+02      0              \n",
      "   8  1.39e-03  8.30e+02  3.05e+01  8.30e+02    9.39e+01      0              \n",
      "   9  1.39e-04  7.71e+02  3.42e+01  7.71e+02    6.06e+01      0              \n",
      "  10  1.39e-05  7.30e+02  3.73e+01  7.30e+02    6.58e+01      0              \n",
      "  11  1.39e-06  7.06e+02  3.86e+01  7.06e+02    5.47e+01      0              \n",
      "  12  1.39e-07  6.84e+02  4.08e+01  6.84e+02    6.69e+01      0              \n",
      "  13  1.39e-08  6.61e+02  4.37e+01  6.61e+02    4.55e+01      0              \n",
      "  14  1.39e-09  6.43e+02  4.59e+01  6.43e+02    6.25e+01      0              \n",
      "  15  1.39e-10  6.12e+02  5.17e+01  6.12e+02    5.37e+01      0              \n",
      "------------------------- STOP! -------------------------\n",
      "1 : |fc-fOld| = 3.1015e+01 <= tolF*(1+|f0|) = 3.6696e+03\n",
      "1 : |xc-x_last| = 4.8542e+00 <= tolX*(1+|x0|) = 4.2811e+01\n",
      "0 : |proj(x-g)-x|    = 5.3732e+01 <= tolG          = 1.0000e-01\n",
      "0 : |proj(x-g)-x|    = 5.3732e+01 <= 1e3*eps       = 1.0000e-02\n",
      "1 : maxIter   =      15    <= iter          =     15\n",
      "------------------------- DONE! -------------------------\n"
     ]
    }
   ],
   "source": [
    "# Compute standard deviations\n",
    "std_dc_5_per = 0.05 * np.abs(dc_data.dobs)\n",
    "# run inversion\n",
    "out_5_per, out_all_5_per = setup_and_run_std_inv(mesh, dc_survey, dc_data, std_dc_5_per,\n",
    "                                                 conductivity_map, ind_active,\n",
    "                                                 starting_conductivity_model)\n"
   ]
  },
  {
   "cell_type": "code",
   "execution_count": 10,
   "metadata": {
    "iooxa": {
     "id": {
      "block": "k4Azwglj0JgP21i3ZCh8",
      "project": "ZZhsBWxYYWY9a9Js3Qge",
      "version": 2
     },
     "outputId": null
    }
   },
   "outputs": [],
   "source": [
    "# Pickle inversion results\n",
    "#  start by putting it in a dict\n",
    "out_fields = ['phi_d', 'phi_m', 'beta', 'inv_out', 'std_dc']\n",
    "out_values = [out_5_per.phi_d, out_5_per.phi_m, out_5_per.beta, out_all_5_per.outDict, std_dc_5_per]\n",
    "out_dict = dict(zip(out_fields, out_values))\n",
    "\n",
    "# setup file name\n",
    "inv_std_dc_5_per_filename = Path(results_path / \"inv_std_dc_5_per.pkl\")\n",
    "\n",
    "save_results_dict(out_dict, inv_std_dc_5_per_filename)"
   ]
  },
  {
   "cell_type": "code",
   "execution_count": 11,
   "metadata": {
    "iooxa": {
     "id": {
      "block": "LLGOvCSpEjHmVJkJlWOM",
      "project": "ZZhsBWxYYWY9a9Js3Qge",
      "version": 2
     },
     "outputId": {
      "block": "C0hl4avINn9C8EEU5SVR",
      "project": "ZZhsBWxYYWY9a9Js3Qge",
      "version": 1
     }
    }
   },
   "outputs": [
    {
     "name": "stdout",
     "output_type": "stream",
     "text": [
      "\n",
      "        SimPEG.InvProblem is setting bfgsH0 to the inverse of the eval2Deriv.\n",
      "        ***Done using same Solver and solverOpts as the problem***\n",
      "model has any nan: 0\n",
      "=============================== Projected GNCG ===============================\n",
      "  #     beta     phi_d     phi_m       f      |proj(x-g)-x|  LS    Comment   \n",
      "-----------------------------------------------------------------------------\n",
      "x0 has any nan: 0\n",
      "   0  3.47e+04  9.17e+03  0.00e+00  9.17e+03    1.78e+03      0              \n",
      "   1  3.47e+03  4.16e+03  4.94e-02  4.33e+03    6.86e+02      0              \n",
      "   2  3.47e+02  2.05e+03  3.14e-01  2.16e+03    2.90e+02      0   Skip BFGS  \n",
      "   3  3.47e+01  1.15e+03  1.43e+00  1.20e+03    1.48e+02      0   Skip BFGS  \n",
      "   4  3.47e+00  6.58e+02  6.10e+00  6.79e+02    6.51e+01      0   Skip BFGS  \n",
      "   5  3.47e-01  4.48e+02  1.49e+01  4.53e+02    4.74e+01      0   Skip BFGS  \n",
      "   6  3.47e-02  3.41e+02  2.06e+01  3.42e+02    5.04e+01      0              \n",
      "   7  3.47e-03  2.55e+02  2.95e+01  2.55e+02    4.16e+01      0              \n",
      "   8  3.47e-04  2.07e+02  3.07e+01  2.07e+02    2.53e+01      0              \n",
      "   9  3.47e-05  1.89e+02  3.56e+01  1.89e+02    1.63e+01      0              \n",
      "  10  3.47e-06  1.80e+02  3.70e+01  1.80e+02    1.78e+01      0              \n",
      "  11  3.47e-07  1.73e+02  4.02e+01  1.73e+02    1.18e+01      0              \n",
      "  12  3.47e-08  1.68e+02  4.22e+01  1.68e+02    1.26e+01      0              \n",
      "  13  3.47e-09  1.60e+02  4.57e+01  1.60e+02    1.44e+01      0              \n",
      "  14  3.47e-10  1.56e+02  4.99e+01  1.56e+02    1.28e+01      0              \n",
      "  15  3.47e-11  1.51e+02  5.06e+01  1.51e+02    1.62e+01      0              \n",
      "------------------------- STOP! -------------------------\n",
      "1 : |fc-fOld| = 4.6260e+00 <= tolF*(1+|f0|) = 9.1748e+02\n",
      "1 : |xc-x_last| = 3.4830e+00 <= tolX*(1+|x0|) = 4.2811e+01\n",
      "0 : |proj(x-g)-x|    = 1.6181e+01 <= tolG          = 1.0000e-01\n",
      "0 : |proj(x-g)-x|    = 1.6181e+01 <= 1e3*eps       = 1.0000e-02\n",
      "1 : maxIter   =      15    <= iter          =     15\n",
      "------------------------- DONE! -------------------------\n"
     ]
    }
   ],
   "source": [
    "# Compute standard deviations for 10 % inversion\n",
    "std_dc_10_per = 0.10 * np.abs(dc_data.dobs)\n",
    "# run inversion\n",
    "out_10_per, out_all_10_per = setup_and_run_std_inv(mesh, dc_survey, dc_data, std_dc_10_per,\n",
    "                                                 conductivity_map, ind_active,\n",
    "                                                 starting_conductivity_model)"
   ]
  },
  {
   "cell_type": "code",
   "execution_count": 12,
   "metadata": {
    "iooxa": {
     "id": {
      "block": "ZY0IyqGdh3LIztSU3wRt",
      "project": "ZZhsBWxYYWY9a9Js3Qge",
      "version": 1
     },
     "outputId": null
    }
   },
   "outputs": [],
   "source": [
    "# Pickle inversion results\n",
    "#  start by putting it in a dict\n",
    "out_fields = ['phi_d', 'phi_m', 'beta', 'inv_out', 'std_dc']\n",
    "out_values = [out_10_per.phi_d, out_10_per.phi_m, out_10_per.beta, out_all_10_per.outDict, std_dc_10_per]\n",
    "out_dict = dict(zip(out_fields, out_values))\n",
    "\n",
    "# setup file name\n",
    "inv_std_dc_10_per_filename = Path(results_path / \"inv_std_dc_10_per.pkl\")\n",
    "\n",
    "save_results_dict(out_dict, inv_std_dc_10_per_filename)"
   ]
  },
  {
   "cell_type": "markdown",
   "metadata": {
    "iooxa": {
     "id": {
      "block": "nK4WaCf2TMyjxaKihMNy",
      "project": "ZZhsBWxYYWY9a9Js3Qge",
      "version": 1
     }
    }
   },
   "source": [
    "### Test #2: Variable percentage\n",
    "\n",
    "Run inversion n <= 3: 10%, 3 < n <= 5: 15%, n > 5: 20%\n",
    "Run inversion n <= 3: 5%, 3 < n <= 4: 10%, n > 4: 15%\n",
    "\n",
    "Plot errors as Voltages in pseudo section and histogram \n",
    "\n",
    "Errors are different so we would expect inversion to behave differently."
   ]
  },
  {
   "cell_type": "code",
   "execution_count": 13,
   "metadata": {
    "iooxa": {
     "id": {
      "block": "1hclewzHlKUVuNP9hZZy",
      "project": "ZZhsBWxYYWY9a9Js3Qge",
      "version": 2
     },
     "outputId": {
      "block": "OhQw2GTK5uEHSBcL8oOP",
      "project": "ZZhsBWxYYWY9a9Js3Qge",
      "version": 1
     }
    }
   },
   "outputs": [
    {
     "name": "stdout",
     "output_type": "stream",
     "text": [
      "\n",
      "        SimPEG.InvProblem is setting bfgsH0 to the inverse of the eval2Deriv.\n",
      "        ***Done using same Solver and solverOpts as the problem***\n",
      "model has any nan: 0\n",
      "=============================== Projected GNCG ===============================\n",
      "  #     beta     phi_d     phi_m       f      |proj(x-g)-x|  LS    Comment   \n",
      "-----------------------------------------------------------------------------\n",
      "x0 has any nan: 0\n",
      "   0  3.22e+04  8.08e+03  0.00e+00  8.08e+03    1.70e+03      0              \n",
      "   1  3.22e+03  3.73e+03  4.95e-02  3.89e+03    6.47e+02      0              \n",
      "   2  3.22e+02  1.89e+03  3.03e-01  1.99e+03    2.72e+02      0   Skip BFGS  \n",
      "   3  3.22e+01  1.03e+03  1.43e+00  1.08e+03    1.35e+02      0   Skip BFGS  \n",
      "   4  3.22e+00  5.32e+02  6.10e+00  5.52e+02    5.53e+01      0   Skip BFGS  \n",
      "   5  3.22e-01  3.60e+02  1.26e+01  3.64e+02    3.95e+01      0   Skip BFGS  \n",
      "   6  3.22e-02  2.94e+02  1.70e+01  2.95e+02    3.99e+01      0              \n",
      "   7  3.22e-03  2.41e+02  2.42e+01  2.41e+02    2.86e+01      0              \n",
      "   8  3.22e-04  2.16e+02  2.46e+01  2.16e+02    2.46e+01      0              \n",
      "   9  3.22e-05  1.94e+02  2.90e+01  1.94e+02    2.21e+01      0              \n",
      "  10  3.22e-06  1.73e+02  3.50e+01  1.73e+02    1.83e+01      0              \n",
      "  11  3.22e-07  1.60e+02  3.82e+01  1.60e+02    1.55e+01      0              \n",
      "  12  3.22e-08  1.51e+02  4.20e+01  1.51e+02    1.25e+01      0              \n",
      "  13  3.22e-09  1.47e+02  4.43e+01  1.47e+02    1.18e+01      0              \n",
      "  14  3.22e-10  1.43e+02  4.50e+01  1.43e+02    1.03e+01      0              \n",
      "  15  3.22e-11  1.39e+02  5.05e+01  1.39e+02    1.27e+01      0              \n",
      "------------------------- STOP! -------------------------\n",
      "1 : |fc-fOld| = 4.2612e+00 <= tolF*(1+|f0|) = 8.0857e+02\n",
      "1 : |xc-x_last| = 3.7919e+00 <= tolX*(1+|x0|) = 4.2811e+01\n",
      "0 : |proj(x-g)-x|    = 1.2656e+01 <= tolG          = 1.0000e-01\n",
      "0 : |proj(x-g)-x|    = 1.2656e+01 <= 1e3*eps       = 1.0000e-02\n",
      "1 : maxIter   =      15    <= iter          =     15\n",
      "------------------------- DONE! -------------------------\n"
     ]
    }
   ],
   "source": [
    "# Calculate the n-values\n",
    "n_val = mid_z/50\n",
    "# Compute standard deviations\n",
    "std_var_per_1 = np.zeros(len(n_val))\n",
    "std_var_per_1[abs(n_val) <= 3] = 0.1\n",
    "std_var_per_1[(abs(n_val) > 3) & (abs(n_val) <= 5)] = 0.15\n",
    "std_var_per_1[abs(n_val) > 5] = 0.2\n",
    "std_var_per_1 *= np.abs(dc_data.dobs)\n",
    "# run inversion\n",
    "out_var_per_1, out_all_var_per_1 = setup_and_run_std_inv(mesh, dc_survey, dc_data, std_var_per_1,\n",
    "                                                 conductivity_map, ind_active,\n",
    "                                                 starting_conductivity_model)"
   ]
  },
  {
   "cell_type": "code",
   "execution_count": 15,
   "metadata": {
    "iooxa": {
     "id": {
      "block": "MJb1jeuBFZtTNRbcragc",
      "project": "ZZhsBWxYYWY9a9Js3Qge",
      "version": 1
     },
     "outputId": null
    }
   },
   "outputs": [],
   "source": [
    "# Pickle inversion results\n",
    "#  start by putting it in a dict\n",
    "out_fields = ['phi_d', 'phi_m', 'beta', 'inv_out', 'std_dc']\n",
    "out_values = [out_var_per_1.phi_d, out_var_per_1.phi_m, out_var_per_1.beta, out_all_var_per_1.outDict, std_var_per_1]\n",
    "out_dict = dict(zip(out_fields, out_values))\n",
    "\n",
    "# setup file name\n",
    "inv_std_var_per_1_filename = Path(results_path / \"inv_std_var_per_1.pkl\")\n",
    "\n",
    "save_results_dict(out_dict, inv_std_var_per_1_filename)"
   ]
  },
  {
   "cell_type": "code",
   "execution_count": 16,
   "metadata": {
    "iooxa": {
     "id": {
      "block": "o4LrvMDFSBmM1Z5XiGJL",
      "project": "ZZhsBWxYYWY9a9Js3Qge",
      "version": 2
     },
     "outputId": {
      "block": "Wgbs0t65vQMuW1uFI0Cj",
      "project": "ZZhsBWxYYWY9a9Js3Qge",
      "version": 1
     }
    }
   },
   "outputs": [
    {
     "name": "stdout",
     "output_type": "stream",
     "text": [
      "\n",
      "        SimPEG.InvProblem is setting bfgsH0 to the inverse of the eval2Deriv.\n",
      "        ***Done using same Solver and solverOpts as the problem***\n",
      "model has any nan: 0\n",
      "=============================== Projected GNCG ===============================\n",
      "  #     beta     phi_d     phi_m       f      |proj(x-g)-x|  LS    Comment   \n",
      "-----------------------------------------------------------------------------\n",
      "x0 has any nan: 0\n",
      "   0  1.26e+05  3.07e+04  0.00e+00  3.07e+04    6.73e+03      0              \n",
      "   1  1.26e+04  1.42e+04  4.82e-02  1.48e+04    2.56e+03      0              \n",
      "   2  1.26e+03  7.20e+03  2.99e-01  7.58e+03    1.07e+03      0   Skip BFGS  \n",
      "   3  1.26e+02  3.80e+03  1.48e+00  3.98e+03    5.10e+02      0   Skip BFGS  \n",
      "   4  1.26e+01  1.85e+03  6.29e+00  1.92e+03    1.95e+02      0   Skip BFGS  \n",
      "   5  1.26e+00  1.22e+03  1.29e+01  1.23e+03    1.61e+02      0   Skip BFGS  \n",
      "   6  1.26e-01  1.04e+03  1.53e+01  1.04e+03    1.29e+02      0              \n",
      "   7  1.26e-02  8.97e+02  1.97e+01  8.97e+02    1.30e+02      0   Skip BFGS  \n",
      "   8  1.26e-03  8.13e+02  2.04e+01  8.13e+02    7.70e+01      0              \n",
      "   9  1.26e-04  7.59e+02  2.47e+01  7.59e+02    1.01e+02      0              \n",
      "  10  1.26e-05  6.74e+02  2.85e+01  6.74e+02    7.72e+01      0              \n",
      "  11  1.26e-06  6.10e+02  3.72e+01  6.10e+02    8.01e+01      0              \n",
      "  12  1.26e-07  5.67e+02  4.13e+01  5.67e+02    5.38e+01      0              \n",
      "  13  1.26e-08  5.30e+02  4.45e+01  5.30e+02    5.21e+01      0              \n",
      "  14  1.26e-09  5.09e+02  4.48e+01  5.09e+02    4.87e+01      0              \n",
      "  15  1.26e-10  4.86e+02  4.53e+01  4.86e+02    5.49e+01      0              \n",
      "------------------------- STOP! -------------------------\n",
      "1 : |fc-fOld| = 2.2894e+01 <= tolF*(1+|f0|) = 3.0661e+03\n",
      "1 : |xc-x_last| = 3.4090e+00 <= tolX*(1+|x0|) = 4.2811e+01\n",
      "0 : |proj(x-g)-x|    = 5.4852e+01 <= tolG          = 1.0000e-01\n",
      "0 : |proj(x-g)-x|    = 5.4852e+01 <= 1e3*eps       = 1.0000e-02\n",
      "1 : maxIter   =      15    <= iter          =     15\n",
      "------------------------- DONE! -------------------------\n"
     ]
    }
   ],
   "source": [
    "# Compute standard deviations\n",
    "std_var_per_2 = np.zeros(len(n_val))\n",
    "std_var_per_2[abs(n_val) <= 3] = 0.05\n",
    "std_var_per_2[(abs(n_val) > 3) & (abs(n_val) <= 4)] = 0.10\n",
    "std_var_per_2[abs(n_val) > 4] = 0.15\n",
    "std_var_per_2 *= dc_data.dobs\n",
    "# run inversion\n",
    "out_var_per_2, out_all_var_per_2 = setup_and_run_std_inv(mesh, dc_survey, dc_data, std_var_per_2,\n",
    "                                                 conductivity_map, ind_active,\n",
    "                                                 starting_conductivity_model)"
   ]
  },
  {
   "cell_type": "code",
   "execution_count": 17,
   "metadata": {
    "iooxa": {
     "id": {
      "block": "36lYuLc2ZUVT34nzjycx",
      "project": "ZZhsBWxYYWY9a9Js3Qge",
      "version": 1
     },
     "outputId": null
    }
   },
   "outputs": [],
   "source": [
    "# Pickle inversion results\n",
    "#  start by putting it in a dict\n",
    "out_fields = ['phi_d', 'phi_m', 'beta', 'inv_out', 'std_dc']\n",
    "out_values = [out_var_per_2.phi_d, out_var_per_2.phi_m, out_var_per_2.beta, out_all_var_per_2.outDict, std_var_per_2]\n",
    "out_dict = dict(zip(out_fields, out_values))\n",
    "\n",
    "# setup file name\n",
    "inv_std_var_per_2_filename = Path(results_path / \"inv_std_var_per_2.pkl\")\n",
    "\n",
    "save_results_dict(out_dict, inv_std_var_per_2_filename)"
   ]
  },
  {
   "cell_type": "markdown",
   "metadata": {
    "iooxa": {
     "id": {
      "block": "6Sl5hpEAvXZcIhO9eeNn",
      "project": "ZZhsBWxYYWY9a9Js3Qge",
      "version": 1
     }
    }
   },
   "source": [
    "### Test #3: % and floor\n",
    "\n",
    "Run inversion 5% + 5% of std dev\n",
    "Run inversion 5% + 2 * smallest value\n",
    "\n",
    "Plot errors as Voltages in pseudo section and histogram \n",
    "\n",
    "Errors are different so we would expect inversion to behave differently."
   ]
  },
  {
   "cell_type": "code",
   "execution_count": 21,
   "metadata": {
    "iooxa": {
     "id": {
      "block": "nKuwUQPfFdydWfbQEOqK",
      "project": "ZZhsBWxYYWY9a9Js3Qge",
      "version": 1
     },
     "outputId": {
      "block": "GEWOxB2yDwUbBJ6eYMDS",
      "project": "ZZhsBWxYYWY9a9Js3Qge",
      "version": 1
     }
    }
   },
   "outputs": [
    {
     "name": "stdout",
     "output_type": "stream",
     "text": [
      "\n",
      "        SimPEG.InvProblem is setting bfgsH0 to the inverse of the eval2Deriv.\n",
      "        ***Done using same Solver and solverOpts as the problem***\n",
      "model has any nan: 0\n",
      "=============================== Projected GNCG ===============================\n",
      "  #     beta     phi_d     phi_m       f      |proj(x-g)-x|  LS    Comment   \n",
      "-----------------------------------------------------------------------------\n",
      "x0 has any nan: 0\n",
      "   0  2.36e+03  1.24e+03  0.00e+00  1.24e+03    1.12e+02      0              \n",
      "   1  2.36e+02  9.32e+02  6.48e-02  9.47e+02    8.20e+01      0              \n",
      "   2  2.36e+01  4.98e+02  7.39e-01  5.16e+02    6.88e+01      0   Skip BFGS  \n",
      "   3  2.36e+00  1.85e+02  3.76e+00  1.94e+02    3.96e+01      0   Skip BFGS  \n",
      "   4  2.36e-01  4.94e+01  9.62e+00  5.17e+01    4.31e+01      0              \n",
      "   5  2.36e-02  2.40e+01  8.33e+00  2.42e+01    7.26e+00      0              \n",
      "   6  2.36e-03  1.94e+01  9.39e+00  1.94e+01    1.18e+01      0              \n",
      "   7  2.36e-04  1.65e+01  9.42e+00  1.65e+01    4.76e+00      0              \n",
      "   8  2.36e-05  1.37e+01  1.09e+01  1.37e+01    4.27e+00      0              \n",
      "   9  2.36e-06  1.31e+01  1.15e+01  1.31e+01    2.72e+00      0              \n",
      "  10  2.36e-07  1.28e+01  1.16e+01  1.28e+01    2.12e+00      0              \n",
      "  11  2.36e-08  1.25e+01  1.20e+01  1.25e+01    2.24e+00      0              \n",
      "  12  2.36e-09  1.22e+01  1.23e+01  1.22e+01    1.93e+00      0              \n",
      "  13  2.36e-10  1.20e+01  1.25e+01  1.20e+01    1.80e+00      0              \n",
      "  14  2.36e-11  1.17e+01  1.28e+01  1.17e+01    2.27e+00      0              \n",
      "  15  2.36e-12  1.15e+01  1.34e+01  1.15e+01    1.84e+00      0              \n",
      "------------------------- STOP! -------------------------\n",
      "1 : |fc-fOld| = 2.5870e-01 <= tolF*(1+|f0|) = 1.2361e+02\n",
      "1 : |xc-x_last| = 1.9282e+00 <= tolX*(1+|x0|) = 4.2811e+01\n",
      "0 : |proj(x-g)-x|    = 1.8443e+00 <= tolG          = 1.0000e-01\n",
      "0 : |proj(x-g)-x|    = 1.8443e+00 <= 1e3*eps       = 1.0000e-02\n",
      "1 : maxIter   =      15    <= iter          =     15\n",
      "------------------------- DONE! -------------------------\n"
     ]
    }
   ],
   "source": [
    "# Compute standard deviations\n",
    "# 5 per of data + 5 % of std dev\n",
    "std_per_flr_1 = 0.05 * np.abs(dc_data.dobs) + 0.05 * np.std(dc_data.dobs)\n",
    "\n",
    "# run inversion\n",
    "out_per_flr_1, out_all_per_flr_1 = setup_and_run_std_inv(mesh, dc_survey, dc_data, std_per_flr_1,\n",
    "                                                 conductivity_map, ind_active,\n",
    "                                                 starting_conductivity_model)"
   ]
  },
  {
   "cell_type": "code",
   "execution_count": 22,
   "metadata": {
    "iooxa": {
     "id": {
      "block": "Plg1l1YpzRgAzA6YiGVO",
      "project": "ZZhsBWxYYWY9a9Js3Qge",
      "version": 1
     },
     "outputId": {
      "block": "ipK0ax3E8PEraorzysDK",
      "project": "ZZhsBWxYYWY9a9Js3Qge",
      "version": 1
     }
    }
   },
   "outputs": [
    {
     "name": "stdout",
     "output_type": "stream",
     "text": [
      "Using Paradiso Solver\n"
     ]
    }
   ],
   "source": [
    "# Pickle inversion results\n",
    "#  start by putting it in a dict\n",
    "out_fields = ['phi_d', 'phi_m', 'beta', 'inv_out', 'std_dc']\n",
    "out_values = [out_per_flr_1.phi_d, out_per_flr_1.phi_m, out_per_flr_1.beta, out_all_per_flr_1.outDict, std_per_flr_1]\n",
    "out_dict = dict(zip(out_fields, out_values))\n",
    "\n",
    "# setup file name\n",
    "inv_std_per_flr_1_filename = Path(results_path / \"inv_std_per_flr_1.pkl\")\n",
    "\n",
    "save_results_dict(out_dict, inv_std_per_flr_1_filename)"
   ]
  },
  {
   "cell_type": "code",
   "execution_count": 23,
   "metadata": {
    "iooxa": {
     "id": {
      "block": "FxJ9hVhL22QqjYE0d6WB",
      "project": "ZZhsBWxYYWY9a9Js3Qge",
      "version": 1
     },
     "outputId": {
      "block": "Pp2ca3Tqu2OIU1lsggJ5",
      "project": "ZZhsBWxYYWY9a9Js3Qge",
      "version": 1
     }
    }
   },
   "outputs": [
    {
     "name": "stdout",
     "output_type": "stream",
     "text": [
      "\n",
      "        SimPEG.InvProblem is setting bfgsH0 to the inverse of the eval2Deriv.\n",
      "        ***Done using same Solver and solverOpts as the problem***\n",
      "model has any nan: 0\n",
      "=============================== Projected GNCG ===============================\n",
      "  #     beta     phi_d     phi_m       f      |proj(x-g)-x|  LS    Comment   \n",
      "-----------------------------------------------------------------------------\n",
      "x0 has any nan: 0\n",
      "   0  2.39e+04  7.39e+03  0.00e+00  7.39e+03    1.53e+03      0              \n",
      "   1  2.39e+03  4.59e+03  4.59e-02  4.70e+03    6.64e+02      0              \n",
      "   2  2.39e+02  2.41e+03  5.66e-01  2.55e+03    3.17e+02      0   Skip BFGS  \n",
      "   3  2.39e+01  1.17e+03  2.56e+00  1.23e+03    1.99e+02      0   Skip BFGS  \n",
      "   4  2.39e+00  4.15e+02  7.42e+00  4.33e+02    6.98e+01      0   Skip BFGS  \n",
      "   5  2.39e-01  2.43e+02  1.20e+01  2.46e+02    5.15e+01      0   Skip BFGS  \n",
      "   6  2.39e-02  2.06e+02  1.34e+01  2.06e+02    3.10e+01      0              \n",
      "   7  2.39e-03  1.76e+02  1.73e+01  1.76e+02    2.75e+01      0              \n",
      "   8  2.39e-04  1.64e+02  1.78e+01  1.64e+02    1.44e+01      0              \n",
      "   9  2.39e-05  1.52e+02  1.99e+01  1.52e+02    2.43e+01      0              \n",
      "  10  2.39e-06  1.43e+02  2.16e+01  1.43e+02    1.68e+01      0              \n",
      "  11  2.39e-07  1.33e+02  2.46e+01  1.33e+02    2.39e+01      0              \n",
      "  12  2.39e-08  1.20e+02  2.87e+01  1.20e+02    1.62e+01      0              \n",
      "  13  2.39e-09  1.12e+02  3.48e+01  1.12e+02    1.62e+01      0              \n",
      "  14  2.39e-10  1.09e+02  3.66e+01  1.09e+02    1.03e+01      0              \n",
      "  15  2.39e-11  1.07e+02  3.90e+01  1.07e+02    1.31e+01      0              \n",
      "------------------------- STOP! -------------------------\n",
      "1 : |fc-fOld| = 2.4444e+00 <= tolF*(1+|f0|) = 7.3952e+02\n",
      "1 : |xc-x_last| = 3.1825e+00 <= tolX*(1+|x0|) = 4.2811e+01\n",
      "0 : |proj(x-g)-x|    = 1.3065e+01 <= tolG          = 1.0000e-01\n",
      "0 : |proj(x-g)-x|    = 1.3065e+01 <= 1e3*eps       = 1.0000e-02\n",
      "1 : maxIter   =      15    <= iter          =     15\n",
      "------------------------- DONE! -------------------------\n"
     ]
    }
   ],
   "source": [
    "# Compute standard deviations\n",
    "# 5 per of data + 2 * min\n",
    "std_per_flr_2 = 0.05 * np.abs(dc_data.dobs) + 2 * dc_data.dobs.min()\n",
    "\n",
    "# run inversion\n",
    "out_per_flr_2, out_all_per_flr_2 = setup_and_run_std_inv(mesh, dc_survey, dc_data, std_per_flr_2,\n",
    "                                                 conductivity_map, ind_active,\n",
    "                                                 starting_conductivity_model)"
   ]
  },
  {
   "cell_type": "code",
   "execution_count": 24,
   "metadata": {
    "iooxa": {
     "id": {
      "block": "5wQGYLKUz7goLfHGp6iM",
      "project": "ZZhsBWxYYWY9a9Js3Qge",
      "version": 1
     },
     "outputId": {
      "block": "KH3Ov1oxG1CJe9lB1Qv3",
      "project": "ZZhsBWxYYWY9a9Js3Qge",
      "version": 1
     }
    }
   },
   "outputs": [
    {
     "name": "stdout",
     "output_type": "stream",
     "text": [
      "Using Paradiso Solver\n"
     ]
    }
   ],
   "source": [
    "# Pickle inversion results\n",
    "#  start by putting it in a dict\n",
    "out_fields = ['phi_d', 'phi_m', 'beta', 'inv_out', 'std_dc']\n",
    "out_values = [out_per_flr_2.phi_d, out_per_flr_2.phi_m, out_per_flr_2.beta, out_all_per_flr_2.outDict, std_per_flr_2]\n",
    "out_dict = dict(zip(out_fields, out_values))\n",
    "\n",
    "# setup file name\n",
    "inv_std_per_flr_2_filename = Path(results_path / \"inv_std_per_flr_2.pkl\")\n",
    "\n",
    "save_results_dict(out_dict, inv_std_per_flr_2_filename)"
   ]
  },
  {
   "cell_type": "markdown",
   "metadata": {
    "iooxa": {
     "id": {
      "block": "QTstKvswQ8scWTnDMTQD",
      "project": "ZZhsBWxYYWY9a9Js3Qge",
      "version": 1
     }
    }
   },
   "source": [
    "Apply work flow to first example"
   ]
  },
  {
   "cell_type": "code",
   "execution_count": 80,
   "metadata": {
    "iooxa": {
     "id": {
      "block": "VJ0VLfQCXVWIzFQbzN4U",
      "project": "ZZhsBWxYYWY9a9Js3Qge",
      "version": 2
     },
     "outputId": null
    }
   },
   "outputs": [],
   "source": [
    "# get phid from 1st iteration of \n",
    "# calc stats\n",
    "dd_dc_5_per = (dc_data.dobs - out_all_5_per.outDict[1]['dpred']) / std_dc_5_per\n",
    "mean_dd_dc_5_per = np.mean(dd_dc_5_per)\n",
    "std_dd_dc_5_per = np.std(dd_dc_5_per)\n",
    "# rescale errors\n",
    "std_dc_5_per_recscale = (abs(dd_dc_5_per - mean_dd_dc_5_per)/std_dd_dc_5_per + 1) * std_dc_5_per"
   ]
  },
  {
   "cell_type": "code",
   "execution_count": 90,
   "metadata": {
    "iooxa": {
     "id": {
      "block": "XVsP0apD86BkmWmY4FWQ",
      "project": "ZZhsBWxYYWY9a9Js3Qge",
      "version": 1
     },
     "outputId": {
      "block": "XK4xtkKD2BYbhsMKxKhO",
      "project": "ZZhsBWxYYWY9a9Js3Qge",
      "version": 1
     }
    }
   },
   "outputs": [
    {
     "data": {
      "image/png": "[encoded data removed]",
      "text/plain": [
       "<Figure size 864x288 with 3 Axes>"
      ]
     },
     "metadata": {
      "needs_background": "light"
     },
     "output_type": "display_data"
    }
   ],
   "source": [
    "# plot the data difference as histogram\n",
    "fig, (ax1, ax2, ax3) = plt.subplots(1, 3, figsize=(12, 4))\n",
    "ax1.hist(std_dc_5_per, bins=25)\n",
    "ax1.set_title('Original error estimates')\n",
    "ax2.hist(dd_dc_5_per, bins=25)\n",
    "ylim = ax2.get_ylim()\n",
    "ax2.plot(mean_dd_dc_5_per*np.ones(2), ylim, 'r--', label='mean')\n",
    "ax2.plot(std_dd_dc_5_per*np.ones(2), ylim, 'g--', label='std')\n",
    "ax2.plot(-1*std_dd_dc_5_per*np.ones(2), ylim, 'g--', label='std')\n",
    "ax2.legend()\n",
    "ax2.set_ylim(ylim)\n",
    "ax2.set_title('Data difference at iteration 1')\n",
    "ax3.hist(std_dc_5_per_rescale, bins=25)\n",
    "ax3.set_title('Rescaled error estimates')\n",
    "plt.show()"
   ]
  },
  {
   "cell_type": "code",
   "execution_count": 58,
   "metadata": {
    "iooxa": {
     "id": {
      "block": "UWOii2CBFi8G9Tre2xDL",
      "project": "ZZhsBWxYYWY9a9Js3Qge",
      "version": 1
     },
     "outputId": {
      "block": "27EjeBfq0n7jvYG70nBc",
      "project": "ZZhsBWxYYWY9a9Js3Qge",
      "version": 1
     }
    }
   },
   "outputs": [
    {
     "data": {
      "image/png": "[encoded data removed]",
      "text/plain": [
       "<Figure size 864x216 with 1 Axes>"
      ]
     },
     "metadata": {
      "needs_background": "light"
     },
     "output_type": "display_data"
    }
   ],
   "source": [
    "# plot the rescaled errors\n",
    "fig, ax = plt.subplots(figsize=(12, 3))\n",
    "ax.plot(np.linspace(1,len(std_dc_5_per),len(std_dc_5_per)), std_dc_5_per, 'ko-', label='original')\n",
    "ax.plot(np.linspace(1,len(std_dc_5_per),len(std_dc_5_per)), std_dc_5_per_recscale, 'ro-', label='rescaled')\n",
    "ax.legend()\n",
    "ax.set_xlim(0,20)\n",
    "ax.set_ylim(0,0.05)\n",
    "ax.set_xlabel('Data index')\n",
    "ax.set_ylabel('Error est (V/A)')\n",
    "ax.set_title('Rescaled errors')\n",
    "plt.show()"
   ]
  },
  {
   "cell_type": "code",
   "execution_count": 54,
   "metadata": {
    "iooxa": {
     "id": {
      "block": "zeIQdinT1lnIZGFsudOM",
      "project": "ZZhsBWxYYWY9a9Js3Qge",
      "version": 1
     },
     "outputId": {
      "block": "yMgblNlm3q7OWPYY9ZNG",
      "project": "ZZhsBWxYYWY9a9Js3Qge",
      "version": 1
     }
    }
   },
   "outputs": [
    {
     "name": "stdout",
     "output_type": "stream",
     "text": [
      "\n",
      "        SimPEG.InvProblem is setting bfgsH0 to the inverse of the eval2Deriv.\n",
      "        ***Done using same Solver and solverOpts as the problem***\n",
      "model has any nan: 0\n",
      "=============================== Projected GNCG ===============================\n",
      "  #     beta     phi_d     phi_m       f      |proj(x-g)-x|  LS    Comment   \n",
      "-----------------------------------------------------------------------------\n",
      "x0 has any nan: 0\n",
      "   0  2.76e+04  6.04e+03  0.00e+00  6.04e+03    7.95e+02      0              \n",
      "   1  2.76e+03  3.46e+03  3.11e-02  3.54e+03    3.93e+02      0              \n",
      "   2  2.76e+02  1.99e+03  2.61e-01  2.07e+03    2.43e+02      0   Skip BFGS  \n",
      "   3  2.76e+01  1.10e+03  1.60e+00  1.14e+03    1.41e+02      0   Skip BFGS  \n",
      "   4  2.76e+00  6.80e+02  5.92e+00  6.96e+02    6.86e+01      0   Skip BFGS  \n",
      "   5  2.76e-01  4.87e+02  1.49e+01  4.91e+02    5.16e+01      0   Skip BFGS  \n",
      "   6  2.76e-02  4.02e+02  1.74e+01  4.02e+02    4.62e+01      0              \n",
      "   7  2.76e-03  3.10e+02  2.80e+01  3.10e+02    9.03e+01      0              \n",
      "   8  2.76e-04  2.55e+02  2.55e+01  2.55e+02    2.67e+01      0              \n",
      "   9  2.76e-05  2.35e+02  2.77e+01  2.35e+02    2.87e+01      0              \n",
      "  10  2.76e-06  2.21e+02  2.81e+01  2.21e+02    1.67e+01      0              \n",
      "  11  2.76e-07  2.05e+02  3.08e+01  2.05e+02    3.29e+01      0              \n",
      "  12  2.76e-08  1.91e+02  3.25e+01  1.91e+02    1.94e+01      0              \n",
      "  13  2.76e-09  1.82e+02  3.40e+01  1.82e+02    1.59e+01      0              \n",
      "  14  2.76e-10  1.76e+02  3.72e+01  1.76e+02    1.71e+01      0              \n",
      "  15  2.76e-11  1.71e+02  3.90e+01  1.71e+02    1.81e+01      0              \n",
      "------------------------- STOP! -------------------------\n",
      "1 : |fc-fOld| = 5.7489e+00 <= tolF*(1+|f0|) = 6.0363e+02\n",
      "1 : |xc-x_last| = 2.0915e+00 <= tolX*(1+|x0|) = 4.2811e+01\n",
      "0 : |proj(x-g)-x|    = 1.8071e+01 <= tolG          = 1.0000e-01\n",
      "0 : |proj(x-g)-x|    = 1.8071e+01 <= 1e3*eps       = 1.0000e-02\n",
      "1 : maxIter   =      15    <= iter          =     15\n",
      "------------------------- DONE! -------------------------\n"
     ]
    }
   ],
   "source": [
    "# run inversion\n",
    "out_5_per_rescale, out_all_5_per_rescale = setup_and_run_std_inv(\n",
    "    mesh, dc_survey, dc_data, std_dc_5_per_rescale, conductivity_map, ind_active,\n",
    "    starting_conductivity_model)"
   ]
  },
  {
   "cell_type": "code",
   "execution_count": 83,
   "metadata": {
    "iooxa": {
     "id": {
      "block": "LbPJovGC2eszm4gF8zCd",
      "project": "ZZhsBWxYYWY9a9Js3Qge",
      "version": 1
     },
     "outputId": null
    }
   },
   "outputs": [],
   "source": [
    "# Pickle inversion results\n",
    "#  start by putting it in a dict\n",
    "out_fields = ['phi_d', 'phi_m', 'beta', 'inv_out', 'std_dc']\n",
    "out_values = [out_5_per_rescale.phi_d, out_5_per_rescale.phi_m, out_5_per_rescale.beta, out_all_5_per_rescale.outDict, std_dc_5_per_rescale]\n",
    "out_dict = dict(zip(out_fields, out_values))\n",
    "\n",
    "# setup file name\n",
    "inv_std_5_per_rescale_filename = Path(results_path / \"inv_std_5_per_rescale.pkl\")\n",
    "\n",
    "save_results_dict(out_dict, inv_std_5_per_rescale_filename)"
   ]
  },
  {
   "cell_type": "markdown",
   "metadata": {
    "iooxa": {
     "id": {
      "block": "NN7F4y42tZFkpdDjp7XA",
      "project": "ZZhsBWxYYWY9a9Js3Qge",
      "version": 1
     }
    }
   },
   "source": [
    "Rescale again using iteration 3"
   ]
  },
  {
   "cell_type": "code",
   "execution_count": 86,
   "metadata": {
    "iooxa": {
     "id": {
      "block": "UPSyfIGtsFJ9emFzAtWX",
      "project": "ZZhsBWxYYWY9a9Js3Qge",
      "version": 1
     },
     "outputId": null
    }
   },
   "outputs": [],
   "source": [
    "# get phid from 1st iteration of \n",
    "# calc stats\n",
    "dd_dc_5_per_rs = (dc_data.dobs - out_all_5_per_rescale.outDict[3]['dpred']) / std_dc_5_per_rescale\n",
    "mean_dd_dc_5_per_rs = np.mean(dd_dc_5_per_rs)\n",
    "std_dd_dc_5_per_rs = np.std(dd_dc_5_per_rs)\n",
    "# rescale errors\n",
    "std_dc_5_per_rescale_2 = (abs(dd_dc_5_per_rs - mean_dd_dc_5_per_rs)/std_dd_dc_5_per_rs + 1) * std_dc_5_per_rescale"
   ]
  },
  {
   "cell_type": "code",
   "execution_count": null,
   "metadata": {},
   "outputs": [],
   "source": []
  },
  {
   "cell_type": "code",
   "execution_count": 87,
   "metadata": {
    "iooxa": {
     "id": {
      "block": "XVsP0apD86BkmWmY4FWQ",
      "project": "ZZhsBWxYYWY9a9Js3Qge",
      "version": 2
     },
     "outputId": {
      "block": "XK4xtkKD2BYbhsMKxKhO",
      "project": "ZZhsBWxYYWY9a9Js3Qge",
      "version": 2
     }
    }
   },
   "outputs": [
    {
     "data": {
      "image/png": "[encoded data removed]",
      "text/plain": [
       "<Figure size 864x288 with 3 Axes>"
      ]
     },
     "metadata": {
      "needs_background": "light"
     },
     "output_type": "display_data"
    }
   ],
   "source": [
    "# plot the data difference as histogram\n",
    "fig, (ax1, ax2, ax3) = plt.subplots(1, 3, figsize=(12, 4))\n",
    "ax1.hist(std_dc_5_per_rescale, bins=25)\n",
    "ax1.set_title('Original error estimates')\n",
    "ax2.hist(dd_dc_5_per_rs, bins=25)\n",
    "ylim = ax2.get_ylim()\n",
    "ax2.plot(mean_dd_dc_5_per_rs*np.ones(2), ylim, 'r--', label='mean')\n",
    "ax2.plot(std_dd_dc_5_per_rs*np.ones(2), ylim, 'g--', label='std')\n",
    "ax2.plot(-1*std_dd_dc_5_per_rs*np.ones(2), ylim, 'g--', label='std')\n",
    "ax2.legend()\n",
    "ax2.set_ylim(ylim)\n",
    "ax2.set_title('Data difference at iteration 3')\n",
    "ax3.hist(std_dc_5_per_rescale_2, bins=25)\n",
    "ax3.set_title('Rescaled error estimates')\n",
    "plt.show()"
   ]
  },
  {
   "cell_type": "code",
   "execution_count": 88,
   "metadata": {
    "iooxa": {
     "id": {
      "block": "OWOXMscjS8Cr39QiNvEr",
      "project": "ZZhsBWxYYWY9a9Js3Qge",
      "version": 1
     },
     "outputId": {
      "block": "kzZJ0HLyqdF3nGIHe6Wl",
      "project": "ZZhsBWxYYWY9a9Js3Qge",
      "version": 1
     }
    }
   },
   "outputs": [
    {
     "name": "stdout",
     "output_type": "stream",
     "text": [
      "\n",
      "        SimPEG.InvProblem is setting bfgsH0 to the inverse of the eval2Deriv.\n",
      "        ***Done using same Solver and solverOpts as the problem***\n",
      "model has any nan: 0\n",
      "=============================== Projected GNCG ===============================\n",
      "  #     beta     phi_d     phi_m       f      |proj(x-g)-x|  LS    Comment   \n",
      "-----------------------------------------------------------------------------\n",
      "x0 has any nan: 0\n",
      "   0  1.33e+04  2.22e+03  0.00e+00  2.22e+03    3.43e+02      0              \n",
      "   1  1.33e+03  1.19e+03  2.65e-02  1.22e+03    1.62e+02      0              \n",
      "   2  1.33e+02  5.40e+02  2.40e-01  5.71e+02    8.94e+01      0   Skip BFGS  \n",
      "   3  1.33e+01  2.37e+02  1.15e+00  2.52e+02    4.37e+01      0   Skip BFGS  \n",
      "   4  1.33e+00  1.61e+02  2.73e+00  1.65e+02    1.92e+01      0   Skip BFGS  \n",
      "   5  1.33e-01  1.22e+02  6.73e+00  1.23e+02    1.70e+01      0   Skip BFGS  \n",
      "   6  1.33e-02  1.09e+02  7.87e+00  1.09e+02    1.42e+01      0              \n",
      "   7  1.33e-03  9.46e+01  1.42e+01  9.46e+01    1.83e+01      0   Skip BFGS  \n",
      "   8  1.33e-04  8.57e+01  1.47e+01  8.57e+01    8.78e+00      0              \n",
      "   9  1.33e-05  7.99e+01  1.86e+01  7.99e+01    1.42e+01      0              \n",
      "  10  1.33e-06  6.99e+01  2.52e+01  6.99e+01    1.09e+01      0              \n",
      "  11  1.33e-07  6.44e+01  2.64e+01  6.44e+01    7.70e+00      0              \n",
      "  12  1.33e-08  6.00e+01  2.64e+01  6.00e+01    8.91e+00      0              \n",
      "  13  1.33e-09  5.60e+01  2.62e+01  5.60e+01    6.98e+00      0              \n",
      "  14  1.33e-10  5.32e+01  2.63e+01  5.32e+01    6.49e+00      0              \n",
      "  15  1.33e-11  5.12e+01  2.65e+01  5.12e+01    5.50e+00      0              \n",
      "------------------------- STOP! -------------------------\n",
      "1 : |fc-fOld| = 1.9294e+00 <= tolF*(1+|f0|) = 2.2207e+02\n",
      "1 : |xc-x_last| = 2.8338e+00 <= tolX*(1+|x0|) = 4.2811e+01\n",
      "0 : |proj(x-g)-x|    = 5.4999e+00 <= tolG          = 1.0000e-01\n",
      "0 : |proj(x-g)-x|    = 5.4999e+00 <= 1e3*eps       = 1.0000e-02\n",
      "1 : maxIter   =      15    <= iter          =     15\n",
      "------------------------- DONE! -------------------------\n"
     ]
    }
   ],
   "source": [
    "# run inversion\n",
    "out_5_per_rescale_2, out_all_5_per_rescale_2 = setup_and_run_std_inv(\n",
    "    mesh, dc_survey, dc_data, std_dc_5_per_rescale_2, conductivity_map, ind_active,\n",
    "    starting_conductivity_model)"
   ]
  },
  {
   "cell_type": "code",
   "execution_count": 89,
   "metadata": {
    "iooxa": {
     "id": {
      "block": "wkb1tx1BFR0zq8TcyFH4",
      "project": "ZZhsBWxYYWY9a9Js3Qge",
      "version": 2
     },
     "outputId": {
      "block": "TcMdwveWEFbHudEX6IEc",
      "project": "ZZhsBWxYYWY9a9Js3Qge",
      "version": 2
     }
    }
   },
   "outputs": [],
   "source": [
    "# Pickle inversion results\n",
    "#  start by putting it in a dict\n",
    "out_fields = ['phi_d', 'phi_m', 'beta', 'inv_out', 'std_dc']\n",
    "out_values = [out_5_per_rescale_2.phi_d, out_5_per_rescale_2.phi_m, out_5_per_rescale_2.beta, out_all_5_per_rescale_2.outDict, std_dc_5_per_rescale_2]\n",
    "out_dict = dict(zip(out_fields, out_values))\n",
    "\n",
    "# setup file name\n",
    "inv_std_5_per_rescale_2_filename = Path(results_path / \"inv_std_5_per_rescale_2.pkl\")\n",
    "\n",
    "save_results_dict(out_dict, inv_std_5_per_rescale_2_filename)"
   ]
  }
 ],
 "metadata": {
  "iooxa": {
   "id": {
    "block": "zS1UjjEuf0Y9iYTJuzA5",
    "project": "ZZhsBWxYYWY9a9Js3Qge",
    "version": 4
   }
  },
  "kernelspec": {
   "display_name": "Python [conda env:simpeg]",
   "language": "python",
   "name": "conda-env-simpeg-py"
  },
  "language_info": {
   "codemirror_mode": {
    "name": "ipython",
    "version": 3
   },
   "file_extension": ".py",
   "mimetype": "text/x-python",
   "name": "python",
   "nbconvert_exporter": "python",
   "pygments_lexer": "ipython3",
   "version": "3.8.6"
  }
 },
 "nbformat": 4,
 "nbformat_minor": 4
}
