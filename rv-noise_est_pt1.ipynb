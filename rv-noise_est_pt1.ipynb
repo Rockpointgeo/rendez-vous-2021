{
 "cells": [
  {
   "cell_type": "markdown",
   "metadata": {
    "iooxa": null
   },
   "source": [
    "# Software Undergound Rendezvous: Feb 6 2021\n",
    "## Importance of noise estimates when solving inverse problems in the \"real\" world\n",
    "## Part 1 Generate results for analysis\n",
    "### Sean Walker"
   ]
  },
  {
   "cell_type": "markdown",
   "metadata": {
    "iooxa": null
   },
   "source": [
    "----"
   ]
  },
  {
   "cell_type": "markdown",
   "metadata": {
    "iooxa": null
   },
   "source": [
    "## Import modules\n"
   ]
  },
  {
   "cell_type": "code",
   "execution_count": 1,
   "metadata": {
    "iooxa": null
   },
   "outputs": [],
   "source": [
    "%matplotlib inline"
   ]
  },
  {
   "cell_type": "code",
   "execution_count": 2,
   "metadata": {
    "collapsed": false,
    "iooxa": null,
    "jupyter": {
     "outputs_hidden": false
    }
   },
   "outputs": [
    {
     "name": "stdout",
     "output_type": "stream",
     "text": [
      "Using Paradiso Solver\n",
      "Using Paradiso Solver\n"
     ]
    }
   ],
   "source": [
    "from pathlib import Path\n",
    "import pickle\n",
    "\n",
    "import numpy as np\n",
    "\n",
    "import matplotlib as mpl\n",
    "import matplotlib.pyplot as plt\n",
    "from matplotlib.gridspec import GridSpec\n",
    "from matplotlib import colors\n",
    "\n",
    "from scipy.stats import gmean\n",
    "\n",
    "from discretize import TreeMesh\n",
    "from discretize.utils import mkvc, refine_tree_xyz, extract_core_mesh\n",
    "\n",
    "from SimPEG.utils import surface2ind_topo\n",
    "from SimPEG import (\n",
    "    maps,\n",
    "    data,\n",
    "    data_misfit,\n",
    "    regularization,\n",
    "    optimization,\n",
    "    inverse_problem,\n",
    "    inversion,\n",
    "    directives,\n",
    "    utils,\n",
    ")\n",
    "from SimPEG.electromagnetics.static import resistivity as dc\n",
    "from SimPEG.electromagnetics.static.utils.static_utils import (\n",
    "    apparent_resistivity,\n",
    "    source_receiver_midpoints\n",
    ")\n",
    "\n",
    "from scripts.dc_inv_utils import *\n",
    "\n",
    "try:\n",
    "    from pymatsolver.direct import Pardiso as Solver\n",
    "    print('Using Paradiso Solver')\n",
    "except ImportError:\n",
    "    print('Using LU Solver')\n",
    "    from SimPEG import SolverLU as Solver\n"
   ]
  },
  {
   "cell_type": "code",
   "execution_count": 3,
   "metadata": {},
   "outputs": [],
   "source": [
    "# take this out after done editting\n",
    "%load_ext autoreload\n",
    "%autoreload 2\n"
   ]
  },
  {
   "cell_type": "markdown",
   "metadata": {
    "iooxa": null
   },
   "source": [
    "**Note** when using the Paradiso solver you may get many warnings that make it hard to read the inversion output. You need at turn off warnings by setting a variable.\n",
    "\n",
    "On mac\\/\\*nx: export KMP_WARNINGS=0  (can be inlcuded in a profile file)\n",
    "\n",
    "On windows: set KMP_WARNINGS=0 (can be set as an environment variable)"
   ]
  },
  {
   "cell_type": "markdown",
   "metadata": {
    "iooxa": null
   },
   "source": [
    "----"
   ]
  },
  {
   "cell_type": "markdown",
   "metadata": {
    "iooxa": null
   },
   "source": [
    "## Demonstrate using DC Resistivity data\n",
    "\n",
    "### SimPEG 2.5D DC Resistivity Least-Squares Inversion\n",
    "\n",
    "Here we invert a line of DC resistivity data to recover an electrical conductivity model. \n",
    "We formulate the corresponding inverse problems as least-squares optimization problems. For this tutorial, I am going to ignore pretty much all of specifics of how the invesion is set up and runs except the for data misfit.\n",
    "\n",
    "Short intro to DC Resistivity data is here:\n",
    "\n",
    "![Image](https://gpg.geosci.xyz/_images/Pseudo_PDP_East.gif)\n",
    "\n",
    "You can find background on [DC Resistivity](https://gpg.geosci.xyz/content/DC_resistivity/index.html) data at [Geophysics for Practicing Geoscientists](https://gpg.geosci.xyz). The image is from the GPG website.\n",
    "\n"
   ]
  },
  {
   "cell_type": "markdown",
   "metadata": {
    "iooxa": null
   },
   "source": [
    "Short intro to Least-Squares Inversion:\n",
    "\n",
    "\n",
    "\n",
    "You can find a [SimPEG](https://simpeg.xyz/) DC Resisivity inversion tutorial [here](https://docs.simpeg.xyz/content/tutorials/05-dcr/plot_inv_2_dcr2d.html#sphx-glr-content-tutorials-05-dcr-plot-inv-2-dcr2d-py)"
   ]
  },
  {
   "cell_type": "markdown",
   "metadata": {
    "iooxa": null
   },
   "source": [
    "## Load Data and define Survey\n",
    "\n",
    "Here we load the observed data and define the DC and IP survey geometry.\n",
    "\n",
    "\n"
   ]
  },
  {
   "cell_type": "code",
   "execution_count": 4,
   "metadata": {
    "iooxa": null
   },
   "outputs": [],
   "source": [
    "# load data\n",
    "\n",
    "# path to the directory containing our data\n",
    "data_path = Path('data')\n",
    "\n",
    "# files to work with\n",
    "topo_filename = Path(data_path / \"rv_dipole_dipole_topo.txt\")\n",
    "dc_data_filename = Path(data_path / \"rv_dipole_dipole_dc.txt\")\n",
    "\n",
    "# load files\n",
    "topo_xz = np.loadtxt(topo_filename)\n",
    "dobs_dc = np.loadtxt(dc_data_filename)\n",
    "\n",
    "# Extract source and receiver electrode locations and the observed data\n",
    "#  we are assuming the dc and ip tx-rx pairs are the same. In this case they are.\n",
    "A_electrodes = np.c_[dobs_dc[:, 0], np.zeros(dobs_dc.shape[0])]\n",
    "B_electrodes = np.c_[dobs_dc[:, 1], np.zeros(dobs_dc.shape[0])]\n",
    "M_electrodes = np.c_[dobs_dc[:, 2], np.zeros(dobs_dc.shape[0])]\n",
    "N_electrodes = np.c_[dobs_dc[:, 3], np.zeros(dobs_dc.shape[0])]\n",
    "dobs_dc = dobs_dc[:, -1]\n",
    "\n",
    "# Define survey\n",
    "unique_tx, k = np.unique(np.c_[A_electrodes, B_electrodes], axis=0, return_index=True)\n",
    "n_sources = len(k)\n",
    "k = np.r_[k, len(A_electrodes) + 1]\n",
    "\n",
    "source_list = []\n",
    "for ii in range(0, n_sources):\n",
    "\n",
    "    # MN electrode locations for receivers. Each is an (N, 3) numpy array\n",
    "    M_locations = M_electrodes[k[ii] : k[ii + 1], :]\n",
    "    N_locations = N_electrodes[k[ii] : k[ii + 1], :]\n",
    "    receiver_list = [dc.receivers.Dipole(M_locations, N_locations, data_type=\"volt\")]\n",
    "\n",
    "    # AB electrode locations for source. Each is a (1, 3) numpy array\n",
    "    A_location = A_electrodes[k[ii], :]\n",
    "    B_location = B_electrodes[k[ii], :]\n",
    "    source_list.append(dc.sources.Dipole(receiver_list, A_location, B_location))\n",
    "\n",
    "# Define survey\n",
    "dc_survey = dc.survey.Survey(source_list)\n",
    "\n",
    "# Define the a data object. Uncertainties are added later\n",
    "dc_data = data.Data(dc_survey, dobs=dobs_dc)\n",
    "\n",
    "# Calc app res and midx and mad mid_z used in plotting pseudo sections\n",
    "app_res = apparent_resistivity(dc_data)\n",
    "app_res_mean = gmean(app_res)\n",
    "mid_x, mid_z = source_receiver_midpoints(dc_survey)"
   ]
  },
  {
   "cell_type": "markdown",
   "metadata": {
    "iooxa": null
   },
   "source": [
    "We now have a `Data` object and a `Survey` object for the DC resistivity data. We also calculated apparent resistivity and mid points/pseudo depths from the array to plot the data."
   ]
  },
  {
   "cell_type": "markdown",
   "metadata": {},
   "source": [
    "Now set up the mesh and define the active part of the model"
   ]
  },
  {
   "cell_type": "code",
   "execution_count": 5,
   "metadata": {
    "iooxa": null
   },
   "outputs": [],
   "source": [
    "# Mesh\n",
    "# all thes values were determined by looking at the data set\n",
    "#  there are probably \n",
    "core_x_min = 0\n",
    "core_x_max = 1900\n",
    "core_x_width = core_x_max - core_x_min\n",
    "core_z_min = -600\n",
    "core_z_max = 0\n",
    "core_z_width = core_z_max - core_z_min\n",
    "\n",
    "dh = 12.5  # base cell width 25m / 4\n",
    "x_min = -500.  # domain width x\n",
    "x_max = 2400.\n",
    "dom_width_x = x_max - x_min\n",
    "z_max = 0.\n",
    "z_min = -1100.\n",
    "dom_width_z = z_max - z_min\n",
    "# Calculate num. base cells x and z must be powers of 2 of base cell\n",
    "#  for tree mesh\n",
    "nbcx = 2 ** int(np.ceil(np.log(dom_width_x / dh) / np.log(2.0)))\n",
    "nbcz = 2 ** int(np.ceil(np.log(dom_width_z / dh) / np.log(2.0)))\n",
    "# calculate the actual size of the mesh from on number of base cells.\n",
    "actual_x_width = nbcx*dh\n",
    "actual_z_width = nbcz*dh\n",
    "# define the origin\n",
    "x_origin = core_x_min - (actual_x_width - core_x_width)/2\n",
    "z_origin = -1*actual_z_width\n",
    "# Define the base mesh\n",
    "hx = [(dh, nbcx)]\n",
    "hz = [(dh, nbcz)]\n",
    "mesh = TreeMesh([hx, hz], x0=[x_origin, z_origin])\n",
    "# Mesh refinement based on topography\n",
    "mesh = refine_tree_xyz(\n",
    "    mesh, topo_xz, octree_levels=[1], method=\"surface\", finalize=False\n",
    ")\n",
    "\n",
    "# Mesh refinement near transmitters and receivers\n",
    "electrode_locations = np.r_[\n",
    "    dc_survey.locations_a,\n",
    "    dc_survey.locations_b,\n",
    "    dc_survey.locations_m,\n",
    "    dc_survey.locations_n,\n",
    "]\n",
    "\n",
    "unique_locations = np.unique(electrode_locations, axis=0)\n",
    "\n",
    "mesh = refine_tree_xyz(\n",
    "    mesh, unique_locations, octree_levels=[2, 4], method=\"radial\",\n",
    "    finalize=False)\n",
    "\n",
    "# Refine core mesh region\n",
    "xp, zp = np.meshgrid([core_x_min, core_x_max], [core_z_min, core_z_max])\n",
    "xyz = np.c_[mkvc(xp), mkvc(zp)]\n",
    "mesh = refine_tree_xyz(mesh, xyz, octree_levels=[0, 2, 2], method=\"box\",\n",
    "                       finalize=False)\n",
    "\n",
    "mesh.finalize()\n",
    "\n",
    "# Find cells that lie below surface topography\n",
    "ind_active = surface2ind_topo(mesh, topo_xz)\n",
    "\n",
    "# Shift electrodes to the surface of discretized topography\n",
    "dc_survey.drape_electrodes_on_topography(mesh, ind_active, option=\"top\")\n",
    "\n",
    "# Define conductivity model in S/m (or resistivity model in Ohm m)\n",
    "air_conductivity = np.log(1e-8)\n",
    "# bacground value we will use the mean apparent resistivity\n",
    "background_conductivity = np.log(1/app_res_mean)\n",
    "\n",
    "active_map = maps.InjectActiveCells(mesh, ind_active, np.exp(air_conductivity))\n",
    "nC = int(ind_active.sum())\n",
    "\n",
    "conductivity_map = active_map * maps.ExpMap()\n",
    "\n",
    "# Define model\n",
    "starting_conductivity_model = background_conductivity * np.ones(nC)\n",
    "\n",
    "plotting_map = maps.ActiveCells(mesh, ind_active, np.nan)\n"
   ]
  },
  {
   "cell_type": "code",
   "execution_count": 6,
   "metadata": {},
   "outputs": [],
   "source": [
    "# mesh core\n",
    "core_defn=[core_x_min, core_x_max, core_z_min, core_z_max]\n",
    "# Electrode locs (re-calc)\n",
    "electrode_locations = np.r_[\n",
    "    dc_survey.locations_a,\n",
    "    dc_survey.locations_b,\n",
    "    dc_survey.locations_m,\n",
    "    dc_survey.locations_n,\n",
    "]\n",
    "\n",
    "unique_locations = np.unique(electrode_locations, axis=0)"
   ]
  },
  {
   "cell_type": "markdown",
   "metadata": {},
   "source": [
    "## Store results and other files for use in discussion"
   ]
  },
  {
   "cell_type": "code",
   "execution_count": 12,
   "metadata": {},
   "outputs": [],
   "source": [
    "# path to the directory containing our results\n",
    "results_path = Path('results')"
   ]
  },
  {
   "cell_type": "code",
   "execution_count": 13,
   "metadata": {},
   "outputs": [],
   "source": [
    "# Pickle stuff we need for setting up the problem and running inversions\n",
    "#  start by putting it in a dict\n",
    "out_fields = ['mesh', 'dc_survey', 'dc_data', 'starting_conductivity_model', 'plotting_map', 'conductivity_map', 'ind_active',\n",
    "                'core_defn', 'unique_locations', 'app_res_mean', 'app_res', 'mid_x', 'mid_z']\n",
    "out_values = [mesh, dc_survey, dc_data, starting_conductivity_model, plotting_map, conductivity_map, ind_active,\n",
    "                core_defn, unique_locations, app_res_mean, app_res, mid_x, mid_z]\n",
    "out_dict = dict(zip(out_fields, out_values))\n",
    "\n",
    "# setup file name\n",
    "setup_filename = Path(results_path / \"setup.pkl\")\n",
    "\n",
    "save_results_dict(out_dict, setup_filename)"
   ]
  },
  {
   "cell_type": "markdown",
   "metadata": {
    "iooxa": null
   },
   "source": [
    "## Assign Uncertainties\n",
    "\n",
    "Inversion with SimPEG requires that we define standard deviation on our data.\n",
    "This represents our estimate of the noise in our data.\n",
    "\n",
    "These values are used to form the data weighting matrix Wdii = 1/stdii\n",
    "\n",
    "We need to choose a value.\n",
    "\n",
    "5% is fairly common starting point. But why not 10% or 1%?\n",
    "\n",
    "Should the large offsets have larger errors (n = 4,5: 15%  and n = 6: 20%?).\n",
    "\n",
    "Should the error estimate have a minimum value sometimes called a noise floor? We choose this as an actual noise floor: 2 * noise level? Or a samll number to prevent 1/std being too large 1e-6?\n"
   ]
  },
  {
   "cell_type": "markdown",
   "metadata": {
    "iooxa": null
   },
   "source": [
    "## Run a bunch of inversions to see what happens"
   ]
  },
  {
   "cell_type": "markdown",
   "metadata": {},
   "source": [
    "Plot phi_d and phi_m from the various inversions.\n",
    "\n",
    "Choose an optimal beta based on the curve flattening out.\n",
    "\n",
    "Show that while phi_d is different for each of these the model is the same.\n",
    "\n",
    "Good reminder of why choosing an arbitrary error estimate and ftiing to your theoretical target misfit is a bad idea."
   ]
  },
  {
   "cell_type": "markdown",
   "metadata": {
    "iooxa": null
   },
   "source": [
    "### Test #1: Change the percentage\n",
    "\n",
    "Run inversion with 5 and 10%\n",
    "\n",
    "Plot errors as Voltages in pseudo section and histogram \n",
    "\n",
    "Based on the phi_d equation we should be able see that the relative errors are the same for each (1/data amplitude). The difference is a constant (1/percentage). So the shape of the phi_d and phi_m curves should be the same. The amplitudes and beta values will be different.\n",
    "\n"
   ]
  },
  {
   "cell_type": "code",
   "execution_count": 14,
   "metadata": {
    "collapsed": false,
    "iooxa": null,
    "jupyter": {
     "outputs_hidden": false
    }
   },
   "outputs": [
    {
     "name": "stdout",
     "output_type": "stream",
     "text": [
      "\n",
      "        SimPEG.InvProblem is setting bfgsH0 to the inverse of the eval2Deriv.\n",
      "        ***Done using same Solver and solverOpts as the problem***\n",
      "model has any nan: 0\n",
      "=============================== Projected GNCG ===============================\n",
      "  #     beta     phi_d     phi_m       f      |proj(x-g)-x|  LS    Comment   \n",
      "-----------------------------------------------------------------------------\n",
      "x0 has any nan: 0\n",
      "   0  1.39e+05  3.67e+04  0.00e+00  3.67e+04    7.10e+03      0              \n",
      "   1  1.39e+04  1.66e+04  4.94e-02  1.73e+04    2.74e+03      0              \n",
      "   2  1.39e+03  8.20e+03  3.14e-01  8.64e+03    1.16e+03      0   Skip BFGS  \n",
      "   3  1.39e+02  4.62e+03  1.43e+00  4.82e+03    5.93e+02      0   Skip BFGS  \n",
      "   4  1.39e+01  2.63e+03  6.10e+00  2.72e+03    2.60e+02      0   Skip BFGS  \n",
      "   5  1.39e+00  1.79e+03  1.49e+01  1.81e+03    1.89e+02      0   Skip BFGS  \n",
      "   6  1.39e-01  1.36e+03  2.06e+01  1.37e+03    2.01e+02      0              \n",
      "   7  1.39e-02  1.02e+03  2.90e+01  1.02e+03    1.67e+02      0              \n",
      "   8  1.39e-03  8.30e+02  3.05e+01  8.30e+02    9.38e+01      0              \n",
      "   9  1.39e-04  7.71e+02  3.44e+01  7.71e+02    6.30e+01      0              \n",
      "  10  1.39e-05  7.29e+02  3.73e+01  7.29e+02    6.58e+01      0              \n",
      "  11  1.39e-06  7.06e+02  3.87e+01  7.06e+02    5.39e+01      0              \n",
      "  12  1.39e-07  6.83e+02  4.07e+01  6.83e+02    6.62e+01      0              \n",
      "  13  1.39e-08  6.52e+02  4.60e+01  6.52e+02    6.65e+01      0              \n",
      "  14  1.39e-09  6.34e+02  4.70e+01  6.34e+02    4.44e+01      0              \n",
      "  15  1.39e-10  6.03e+02  5.43e+01  6.03e+02    6.22e+01      0              \n",
      "------------------------- STOP! -------------------------\n",
      "1 : |fc-fOld| = 3.0747e+01 <= tolF*(1+|f0|) = 3.6696e+03\n",
      "1 : |xc-x_last| = 5.3370e+00 <= tolX*(1+|x0|) = 4.2811e+01\n",
      "0 : |proj(x-g)-x|    = 6.2172e+01 <= tolG          = 1.0000e-01\n",
      "0 : |proj(x-g)-x|    = 6.2172e+01 <= 1e3*eps       = 1.0000e-02\n",
      "1 : maxIter   =      15    <= iter          =     15\n",
      "------------------------- DONE! -------------------------\n"
     ]
    }
   ],
   "source": [
    "# Compute standard deviations\n",
    "std_dc_5_per = 0.05 * np.abs(dc_data.dobs)\n",
    "# run inversion\n",
    "out_5_per, out_all_5_per = setup_and_run_std_inv(mesh, dc_survey, dc_data, std_dc_5_per,\n",
    "                                                 conductivity_map, ind_active,\n",
    "                                                 starting_conductivity_model)\n"
   ]
  },
  {
   "cell_type": "code",
   "execution_count": 35,
   "metadata": {},
   "outputs": [],
   "source": [
    "# Pickle stuff we need for setting up the problem and running inversions\n",
    "#  start by putting it in a dict\n",
    "out_fields = ['phi_d', 'phi_m', 'beta', 'inv_out', 'std_dc']\n",
    "out_values = [out_5_per.phi_d, out_5_per.phi_m, out_5_per.beta, out_all_5_per.outDict, std_dc_5_per]\n",
    "out_dict = dict(zip(out_fields, out_values))\n",
    "\n",
    "# setup file name\n",
    "inv_std_dc_5_per_filename = Path(results_path / \"inv_std_dc_5_per.pkl\")\n",
    "\n",
    "save_results_dict(out_dict, inv_std_dc_5_per_filename)"
   ]
  },
  {
   "cell_type": "code",
   "execution_count": null,
   "metadata": {},
   "outputs": [],
   "source": []
  },
  {
   "cell_type": "code",
   "execution_count": null,
   "metadata": {},
   "outputs": [],
   "source": [
    "it = 2\n",
    "m_it = out_all_5_per.outDict[it]['m']\n",
    "dpred_it = out_all_5_per.outDict[it]['dpred']\n",
    "phid_it = (dc_data.dobs - dpred_it)/std_dc_5_per\n",
    "fig = plt.figure(figsize=(16, 8))\n",
    "gs = GridSpec(2, 4, figure=fig)\n",
    "ax = fig.add_subplot(gs[0, :-1])\n",
    "mod = mesh.plot_image(\n",
    "    plotting_map * np.log10(np.exp(m_it)),\n",
    "    grid=False,\n",
    "    clim=(-3, -1),\n",
    "    ax=ax,\n",
    "    pcolorOpts={\"cmap\": \"viridis\"},\n",
    ")\n",
    "ax.plot(unique_locations[:,0], unique_locations[:,1], 'ko')\n",
    "ax.set_xlim(core_x_min, core_x_max)\n",
    "ax.set_ylim(core_z_min, core_z_max)\n",
    "ax.set_title(f\"Recovered model iteration {it}\")\n",
    "fig.colorbar(mod[0], ax=ax, orientation='vertical', label='log10 conductivity')\n",
    "ax2 = fig.add_subplot(gs[1, :-1])\n",
    "d_phid = ax2.scatter(mid_x, mid_z, c=phid_it)\n",
    "c_phid = fig.colorbar(d_phid, ax=ax2, orientation='vertical')\n",
    "ax2.set_xlim(core_x_min, core_x_max)\n",
    "ax2.set_ylim(core_z_min, core_z_max)\n",
    "ax2.axis('equal')\n",
    "ax2.set_title(f\"Data misfit {it}\")\n",
    "ax2.set_xlabel('X')\n",
    "ax2.set_ylabel('a (50m) x n')\n",
    "ax3 = fig.add_subplot(gs[1,-1])\n",
    "h_dobs = ax3.hist(phid_it, bins=25)\n",
    "ax3.set_title('$\\phi_d$')\n",
    "plt.show()"
   ]
  },
  {
   "cell_type": "code",
   "execution_count": null,
   "metadata": {
    "iooxa": null
   },
   "outputs": [],
   "source": [
    "# Compute standard deviations\n",
    "std_dc_10_per = 0.10 * np.abs(dc_data.dobs)\n",
    "# run inversion\n",
    "out_10_per, out_all_10_per = setup_and_run_std_inv(mesh, dc_survey, dc_data, std_dc_10_per,\n",
    "                                                 conductivity_map, ind_active,\n",
    "                                                 starting_conductivity_model)"
   ]
  },
  {
   "cell_type": "code",
   "execution_count": null,
   "metadata": {
    "iooxa": null
   },
   "outputs": [],
   "source": [
    "num_it = len(out_10_per.phi_d)\n",
    "fig, (ax1, ax2) = plt.subplots(1, 2, figsize=(12, 6))\n",
    "ax1.semilogy(np.linspace(1, num_it, num_it), out_10_per.phi_d,'ko-')\n",
    "ax2.semilogy(np.linspace(1, num_it, num_it), out_10_per.phi_m,'ko-')"
   ]
  },
  {
   "cell_type": "code",
   "execution_count": null,
   "metadata": {
    "iooxa": null
   },
   "outputs": [],
   "source": [
    "it = 2\n",
    "m_it = out_all_10_per.outDict[it]['m']\n",
    "dpred_it = out_all_10_per.outDict[it]['dpred']\n",
    "phid_it = (dc_data.dobs - dpred_it)/std_dc_10_per\n",
    "fig = plt.figure(figsize=(16, 8))\n",
    "gs = GridSpec(2, 4, figure=fig)\n",
    "ax = fig.add_subplot(gs[0, :-1])\n",
    "mod = mesh.plot_image(\n",
    "    plotting_map * np.log10(np.exp(m_it)),\n",
    "    grid=False,\n",
    "    clim=(-3, -1),\n",
    "    ax=ax,\n",
    "    pcolorOpts={\"cmap\": \"viridis\"},\n",
    ")\n",
    "ax.plot(unique_locations[:,0], unique_locations[:,1], 'ko')\n",
    "ax.set_xlim(core_x_min, core_x_max)\n",
    "ax.set_ylim(core_z_min, core_z_max)\n",
    "ax.set_title(f\"Recovered model iteration {it}\")\n",
    "fig.colorbar(mod[0], ax=ax, orientation='vertical', label='log10 conductivity')\n",
    "ax2 = fig.add_subplot(gs[1, :-1])\n",
    "d_phid = ax2.scatter(mid_x, mid_z, c=phid_it)\n",
    "c_phid = fig.colorbar(d_phid, ax=ax2, orientation='vertical')\n",
    "ax2.set_xlim(core_x_min, core_x_max)\n",
    "ax2.set_ylim(core_z_min, core_z_max)\n",
    "ax2.axis('equal')\n",
    "ax2.set_title(f\"Data misfit {it}\")\n",
    "ax2.set_xlabel('X')\n",
    "ax2.set_ylabel('a (50m) x n')\n",
    "ax3 = fig.add_subplot(gs[1,-1])\n",
    "h_dobs = ax3.hist(phid_it, bins=25)\n",
    "ax3.set_title('$\\phi_d$')\n",
    "plt.show()"
   ]
  },
  {
   "cell_type": "markdown",
   "metadata": {
    "iooxa": null
   },
   "source": [
    "### Test #2: Variable percentage\n",
    "\n",
    "Run inversion n <= 3: 10%, 3 < n <= 5: 15%, n > 5: 20%\n",
    "Run inversion n <= 3: 5%, 3 < n <= 4: 10%, n > 4: 15%\n",
    "\n",
    "Plot errors as Voltages in pseudo section and histogram \n",
    "\n",
    "Errors are different so we would expect inversion to behave differently."
   ]
  },
  {
   "cell_type": "code",
   "execution_count": null,
   "metadata": {},
   "outputs": [],
   "source": [
    "# Calculate the n-values\n",
    "n_val = mid_z/50\n",
    "# Compute standard deviations\n",
    "std_var_per_1 = np.zeros(len(n_val))\n",
    "std_var_per_1[abs(n_val) <= 3] = 0.1\n",
    "std_var_per_1[(abs(n_val) > 3) & (abs(n_val) <= 5)] = 0.15\n",
    "std_var_per_1[abs(n_val) > 5] = 0.2\n",
    "std_var_per_1 *= np.abs(dc_data.dobs)\n",
    "# run inversion\n",
    "out_var_per_1, out_all_var_per_1 = setup_and_run_std_inv(mesh, dc_survey, dc_data, std_var_per_1,\n",
    "                                                 conductivity_map, ind_active,\n",
    "                                                 starting_conductivity_model)"
   ]
  },
  {
   "cell_type": "code",
   "execution_count": null,
   "metadata": {},
   "outputs": [],
   "source": [
    "# Compute standard deviations\n",
    "std_var_per_2 = np.zeros(len(n_val))\n",
    "std_var_per_2[abs(n_val) <= 3] = 0.05\n",
    "std_var_per_2[(abs(n_val) > 3) & (abs(n_val) <= 4)] = 0.10\n",
    "std_var_per_2[abs(n_val) > 4] = 0.15\n",
    "std_var_per_2 *= dc_data.dobs\n",
    "# run inversion\n",
    "out_var_per_2, out_all_var_per_2 = setup_and_run_std_inv(mesh, dc_survey, dc_data, std_var_per_2,\n",
    "                                                 conductivity_map, ind_active,\n",
    "                                                 starting_conductivity_model)"
   ]
  },
  {
   "cell_type": "markdown",
   "metadata": {
    "iooxa": null
   },
   "source": [
    "### Test #3: % and floor\n",
    "\n",
    "Run inversion 5% + 5% of std dev\n",
    "Run inversion 5% + 2 * smallest value\n",
    "\n",
    "Plot errors as Voltages in pseudo section and histogram \n",
    "\n",
    "Errors are different so we would expect inversion to behave differently."
   ]
  },
  {
   "cell_type": "code",
   "execution_count": null,
   "metadata": {},
   "outputs": [],
   "source": [
    "%matplotlib inline\n",
    "from ipywidgets import interact\n",
    "import matplotlib.pyplot as plt\n",
    "import numpy as np\n",
    "\n",
    "# set up plot\n",
    "fig, ax = plt.subplots(figsize=(6, 4))\n",
    "ax.set_ylim([-4, 4])\n",
    "ax.grid(True)\n",
    " \n",
    "# generate x values\n",
    "x = np.linspace(0, 2 * np.pi, 100)\n",
    " \n",
    " \n",
    "def my_sine(x, w, amp, phi):\n",
    "    \"\"\"\n",
    "    Return a sine for x with angular frequeny w and amplitude amp.\n",
    "    \"\"\"\n",
    "    return amp*np.sin(w * (x-phi))\n",
    " \n",
    " \n",
    "@interact(x, w=(0, 10, 1), amp=(0, 4, .1), phi=(0, 2*np.pi+0.01, 0.01))\n",
    "def update(x, w = 1.0, amp=1, phi=0):\n",
    "    \"\"\"Remove old lines from plot and plot new one\"\"\"\n",
    "#    if len(ax.lines) > 1:\n",
    "#        [l.remove() for l in ax.lines]\n",
    "    ax.plot(x, my_sine(x, w, amp, phi), color='C0')"
   ]
  },
  {
   "cell_type": "code",
   "execution_count": null,
   "metadata": {},
   "outputs": [],
   "source": []
  },
  {
   "cell_type": "code",
   "execution_count": null,
   "metadata": {},
   "outputs": [],
   "source": [
    "display(slid_num)"
   ]
  },
  {
   "cell_type": "code",
   "execution_count": null,
   "metadata": {},
   "outputs": [],
   "source": [
    "slid_num.value"
   ]
  },
  {
   "cell_type": "code",
   "execution_count": null,
   "metadata": {},
   "outputs": [],
   "source": []
  }
 ],
 "metadata": {
  "iooxa": null,
  "kernelspec": {
   "display_name": "Python [conda env:simpeg]",
   "language": "python",
   "name": "conda-env-simpeg-py"
  },
  "language_info": {
   "codemirror_mode": {
    "name": "ipython",
    "version": 3
   },
   "file_extension": ".py",
   "mimetype": "text/x-python",
   "name": "python",
   "nbconvert_exporter": "python",
   "pygments_lexer": "ipython3",
   "version": "3.8.6"
  }
 },
 "nbformat": 4,
 "nbformat_minor": 4
}
